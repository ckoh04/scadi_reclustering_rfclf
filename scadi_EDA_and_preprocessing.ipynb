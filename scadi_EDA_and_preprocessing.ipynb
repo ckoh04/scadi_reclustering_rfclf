{
 "cells": [
  {
   "cell_type": "code",
   "execution_count": 45,
   "metadata": {
    "collapsed": true
   },
   "outputs": [],
   "source": [
    "import warnings\n",
    "\n",
    "from scipy.spatial.distance import pdist\n",
    "from scipy.cluster.hierarchy import single, complete, average, weighted, centroid, median, ward, fcluster, cophenet, leaves_list\n",
    "import scipy.cluster.hierarchy\n",
    "\n",
    "import pandas as pd\n",
    "import numpy as np\n",
    "from numpy import linalg as la\n",
    "\n",
    "import matplotlib.pyplot as plt\n",
    "import plotly.express as px\n",
    "\n",
    "\n",
    "from umap import UMAP\n",
    "import seaborn as sns\n",
    "\n",
    "from sklearn.decomposition import PCA, TruncatedSVD\n",
    "from sklearn import metrics\n",
    "from sklearn.cluster import AgglomerativeClustering\n",
    "from sklearn.model_selection import train_test_split, cross_val_score, StratifiedKFold\n",
    "from sklearn.ensemble import RandomForestClassifier\n",
    "\n",
    "from yellowbrick.classifier import ClassificationReport, ROCAUC, ConfusionMatrix\n",
    "from yellowbrick.model_selection import LearningCurve\n",
    "\n",
    "plt.style.use('dark_background')"
   ]
  },
  {
   "cell_type": "code",
   "execution_count": 46,
   "outputs": [
    {
     "data": {
      "text/plain": "   Gender  Age  d 5100-0  d 5100-1  d 5100-2  d 5100-3  d 5100-4  d 5100-8  \\\n0       0   18         0         0         0         0         1         0   \n1       0   22         0         0         0         0         1         0   \n2       0   18         0         0         0         1         0         0   \n3       1   18         0         0         0         0         1         0   \n4       0   19         0         0         0         0         1         0   \n\n   d 5100-9  d 5101-0  ...  d 57022-8  d 57022-9  d 571-0  d 571-1  d 571-2  \\\n0         0         0  ...          0          0        0        0        0   \n1         0         0  ...          0          0        0        0        0   \n2         0         0  ...          0          0        0        0        0   \n3         0         0  ...          0          0        0        0        1   \n4         0         0  ...          0          0        0        0        1   \n\n   d 571-3  d 571-4  d 571-8  d 571-9  Classes  \n0        0        1        0        0   class6  \n1        1        0        0        0   class6  \n2        1        0        0        0   class6  \n3        0        0        0        0   class6  \n4        0        0        0        0   class6  \n\n[5 rows x 206 columns]",
      "text/html": "<div>\n<style scoped>\n    .dataframe tbody tr th:only-of-type {\n        vertical-align: middle;\n    }\n\n    .dataframe tbody tr th {\n        vertical-align: top;\n    }\n\n    .dataframe thead th {\n        text-align: right;\n    }\n</style>\n<table border=\"1\" class=\"dataframe\">\n  <thead>\n    <tr style=\"text-align: right;\">\n      <th></th>\n      <th>Gender</th>\n      <th>Age</th>\n      <th>d 5100-0</th>\n      <th>d 5100-1</th>\n      <th>d 5100-2</th>\n      <th>d 5100-3</th>\n      <th>d 5100-4</th>\n      <th>d 5100-8</th>\n      <th>d 5100-9</th>\n      <th>d 5101-0</th>\n      <th>...</th>\n      <th>d 57022-8</th>\n      <th>d 57022-9</th>\n      <th>d 571-0</th>\n      <th>d 571-1</th>\n      <th>d 571-2</th>\n      <th>d 571-3</th>\n      <th>d 571-4</th>\n      <th>d 571-8</th>\n      <th>d 571-9</th>\n      <th>Classes</th>\n    </tr>\n  </thead>\n  <tbody>\n    <tr>\n      <th>0</th>\n      <td>0</td>\n      <td>18</td>\n      <td>0</td>\n      <td>0</td>\n      <td>0</td>\n      <td>0</td>\n      <td>1</td>\n      <td>0</td>\n      <td>0</td>\n      <td>0</td>\n      <td>...</td>\n      <td>0</td>\n      <td>0</td>\n      <td>0</td>\n      <td>0</td>\n      <td>0</td>\n      <td>0</td>\n      <td>1</td>\n      <td>0</td>\n      <td>0</td>\n      <td>class6</td>\n    </tr>\n    <tr>\n      <th>1</th>\n      <td>0</td>\n      <td>22</td>\n      <td>0</td>\n      <td>0</td>\n      <td>0</td>\n      <td>0</td>\n      <td>1</td>\n      <td>0</td>\n      <td>0</td>\n      <td>0</td>\n      <td>...</td>\n      <td>0</td>\n      <td>0</td>\n      <td>0</td>\n      <td>0</td>\n      <td>0</td>\n      <td>1</td>\n      <td>0</td>\n      <td>0</td>\n      <td>0</td>\n      <td>class6</td>\n    </tr>\n    <tr>\n      <th>2</th>\n      <td>0</td>\n      <td>18</td>\n      <td>0</td>\n      <td>0</td>\n      <td>0</td>\n      <td>1</td>\n      <td>0</td>\n      <td>0</td>\n      <td>0</td>\n      <td>0</td>\n      <td>...</td>\n      <td>0</td>\n      <td>0</td>\n      <td>0</td>\n      <td>0</td>\n      <td>0</td>\n      <td>1</td>\n      <td>0</td>\n      <td>0</td>\n      <td>0</td>\n      <td>class6</td>\n    </tr>\n    <tr>\n      <th>3</th>\n      <td>1</td>\n      <td>18</td>\n      <td>0</td>\n      <td>0</td>\n      <td>0</td>\n      <td>0</td>\n      <td>1</td>\n      <td>0</td>\n      <td>0</td>\n      <td>0</td>\n      <td>...</td>\n      <td>0</td>\n      <td>0</td>\n      <td>0</td>\n      <td>0</td>\n      <td>1</td>\n      <td>0</td>\n      <td>0</td>\n      <td>0</td>\n      <td>0</td>\n      <td>class6</td>\n    </tr>\n    <tr>\n      <th>4</th>\n      <td>0</td>\n      <td>19</td>\n      <td>0</td>\n      <td>0</td>\n      <td>0</td>\n      <td>0</td>\n      <td>1</td>\n      <td>0</td>\n      <td>0</td>\n      <td>0</td>\n      <td>...</td>\n      <td>0</td>\n      <td>0</td>\n      <td>0</td>\n      <td>0</td>\n      <td>1</td>\n      <td>0</td>\n      <td>0</td>\n      <td>0</td>\n      <td>0</td>\n      <td>class6</td>\n    </tr>\n  </tbody>\n</table>\n<p>5 rows × 206 columns</p>\n</div>"
     },
     "execution_count": 46,
     "metadata": {},
     "output_type": "execute_result"
    }
   ],
   "source": [
    "warnings.filterwarnings('ignore')\n",
    "df = pd.read_csv(\"SCADI.csv\")\n",
    "df.head()"
   ],
   "metadata": {
    "collapsed": false,
    "pycharm": {
     "name": "#%%\n"
    }
   }
  },
  {
   "cell_type": "code",
   "execution_count": 47,
   "outputs": [
    {
     "name": "stdout",
     "output_type": "stream",
     "text": [
      "Gender       int64\n",
      "Age          int64\n",
      "d 5100-0     int64\n",
      "d 5100-1     int64\n",
      "d 5100-2     int64\n",
      "             ...  \n",
      "d 571-3      int64\n",
      "d 571-4      int64\n",
      "d 571-8      int64\n",
      "d 571-9      int64\n",
      "Classes     object\n",
      "Length: 206, dtype: object\n"
     ]
    },
    {
     "data": {
      "text/plain": "          Gender        Age   d 5100-0   d 5100-1   d 5100-2   d 5100-3  \\\ncount  70.000000  70.000000  70.000000  70.000000  70.000000  70.000000   \nmean    0.414286  12.257143   0.071429   0.142857   0.271429   0.171429   \nstd     0.496155   3.626336   0.259399   0.352454   0.447907   0.379604   \nmin     0.000000   6.000000   0.000000   0.000000   0.000000   0.000000   \n25%     0.000000   9.000000   0.000000   0.000000   0.000000   0.000000   \n50%     0.000000  12.000000   0.000000   0.000000   0.000000   0.000000   \n75%     1.000000  15.000000   0.000000   0.000000   1.000000   0.000000   \nmax     1.000000  22.000000   1.000000   1.000000   1.000000   1.000000   \n\n        d 5100-4  d 5100-8  d 5100-9  d 5101-0  ...  d 57022-4  d 57022-8  \\\ncount  70.000000      70.0      70.0      70.0  ...  70.000000       70.0   \nmean    0.342857       0.0       0.0       0.0  ...   0.014286        0.0   \nstd     0.478091       0.0       0.0       0.0  ...   0.119523        0.0   \nmin     0.000000       0.0       0.0       0.0  ...   0.000000        0.0   \n25%     0.000000       0.0       0.0       0.0  ...   0.000000        0.0   \n50%     0.000000       0.0       0.0       0.0  ...   0.000000        0.0   \n75%     1.000000       0.0       0.0       0.0  ...   0.000000        0.0   \nmax     1.000000       0.0       0.0       0.0  ...   1.000000        0.0   \n\n       d 57022-9    d 571-0    d 571-1    d 571-2    d 571-3    d 571-4  \\\ncount       70.0  70.000000  70.000000  70.000000  70.000000  70.000000   \nmean         0.0   0.114286   0.328571   0.314286   0.157143   0.085714   \nstd          0.0   0.320455   0.473085   0.467583   0.366563   0.281963   \nmin          0.0   0.000000   0.000000   0.000000   0.000000   0.000000   \n25%          0.0   0.000000   0.000000   0.000000   0.000000   0.000000   \n50%          0.0   0.000000   0.000000   0.000000   0.000000   0.000000   \n75%          0.0   0.000000   1.000000   1.000000   0.000000   0.000000   \nmax          0.0   1.000000   1.000000   1.000000   1.000000   1.000000   \n\n       d 571-8  d 571-9  \ncount     70.0     70.0  \nmean       0.0      0.0  \nstd        0.0      0.0  \nmin        0.0      0.0  \n25%        0.0      0.0  \n50%        0.0      0.0  \n75%        0.0      0.0  \nmax        0.0      0.0  \n\n[8 rows x 205 columns]",
      "text/html": "<div>\n<style scoped>\n    .dataframe tbody tr th:only-of-type {\n        vertical-align: middle;\n    }\n\n    .dataframe tbody tr th {\n        vertical-align: top;\n    }\n\n    .dataframe thead th {\n        text-align: right;\n    }\n</style>\n<table border=\"1\" class=\"dataframe\">\n  <thead>\n    <tr style=\"text-align: right;\">\n      <th></th>\n      <th>Gender</th>\n      <th>Age</th>\n      <th>d 5100-0</th>\n      <th>d 5100-1</th>\n      <th>d 5100-2</th>\n      <th>d 5100-3</th>\n      <th>d 5100-4</th>\n      <th>d 5100-8</th>\n      <th>d 5100-9</th>\n      <th>d 5101-0</th>\n      <th>...</th>\n      <th>d 57022-4</th>\n      <th>d 57022-8</th>\n      <th>d 57022-9</th>\n      <th>d 571-0</th>\n      <th>d 571-1</th>\n      <th>d 571-2</th>\n      <th>d 571-3</th>\n      <th>d 571-4</th>\n      <th>d 571-8</th>\n      <th>d 571-9</th>\n    </tr>\n  </thead>\n  <tbody>\n    <tr>\n      <th>count</th>\n      <td>70.000000</td>\n      <td>70.000000</td>\n      <td>70.000000</td>\n      <td>70.000000</td>\n      <td>70.000000</td>\n      <td>70.000000</td>\n      <td>70.000000</td>\n      <td>70.0</td>\n      <td>70.0</td>\n      <td>70.0</td>\n      <td>...</td>\n      <td>70.000000</td>\n      <td>70.0</td>\n      <td>70.0</td>\n      <td>70.000000</td>\n      <td>70.000000</td>\n      <td>70.000000</td>\n      <td>70.000000</td>\n      <td>70.000000</td>\n      <td>70.0</td>\n      <td>70.0</td>\n    </tr>\n    <tr>\n      <th>mean</th>\n      <td>0.414286</td>\n      <td>12.257143</td>\n      <td>0.071429</td>\n      <td>0.142857</td>\n      <td>0.271429</td>\n      <td>0.171429</td>\n      <td>0.342857</td>\n      <td>0.0</td>\n      <td>0.0</td>\n      <td>0.0</td>\n      <td>...</td>\n      <td>0.014286</td>\n      <td>0.0</td>\n      <td>0.0</td>\n      <td>0.114286</td>\n      <td>0.328571</td>\n      <td>0.314286</td>\n      <td>0.157143</td>\n      <td>0.085714</td>\n      <td>0.0</td>\n      <td>0.0</td>\n    </tr>\n    <tr>\n      <th>std</th>\n      <td>0.496155</td>\n      <td>3.626336</td>\n      <td>0.259399</td>\n      <td>0.352454</td>\n      <td>0.447907</td>\n      <td>0.379604</td>\n      <td>0.478091</td>\n      <td>0.0</td>\n      <td>0.0</td>\n      <td>0.0</td>\n      <td>...</td>\n      <td>0.119523</td>\n      <td>0.0</td>\n      <td>0.0</td>\n      <td>0.320455</td>\n      <td>0.473085</td>\n      <td>0.467583</td>\n      <td>0.366563</td>\n      <td>0.281963</td>\n      <td>0.0</td>\n      <td>0.0</td>\n    </tr>\n    <tr>\n      <th>min</th>\n      <td>0.000000</td>\n      <td>6.000000</td>\n      <td>0.000000</td>\n      <td>0.000000</td>\n      <td>0.000000</td>\n      <td>0.000000</td>\n      <td>0.000000</td>\n      <td>0.0</td>\n      <td>0.0</td>\n      <td>0.0</td>\n      <td>...</td>\n      <td>0.000000</td>\n      <td>0.0</td>\n      <td>0.0</td>\n      <td>0.000000</td>\n      <td>0.000000</td>\n      <td>0.000000</td>\n      <td>0.000000</td>\n      <td>0.000000</td>\n      <td>0.0</td>\n      <td>0.0</td>\n    </tr>\n    <tr>\n      <th>25%</th>\n      <td>0.000000</td>\n      <td>9.000000</td>\n      <td>0.000000</td>\n      <td>0.000000</td>\n      <td>0.000000</td>\n      <td>0.000000</td>\n      <td>0.000000</td>\n      <td>0.0</td>\n      <td>0.0</td>\n      <td>0.0</td>\n      <td>...</td>\n      <td>0.000000</td>\n      <td>0.0</td>\n      <td>0.0</td>\n      <td>0.000000</td>\n      <td>0.000000</td>\n      <td>0.000000</td>\n      <td>0.000000</td>\n      <td>0.000000</td>\n      <td>0.0</td>\n      <td>0.0</td>\n    </tr>\n    <tr>\n      <th>50%</th>\n      <td>0.000000</td>\n      <td>12.000000</td>\n      <td>0.000000</td>\n      <td>0.000000</td>\n      <td>0.000000</td>\n      <td>0.000000</td>\n      <td>0.000000</td>\n      <td>0.0</td>\n      <td>0.0</td>\n      <td>0.0</td>\n      <td>...</td>\n      <td>0.000000</td>\n      <td>0.0</td>\n      <td>0.0</td>\n      <td>0.000000</td>\n      <td>0.000000</td>\n      <td>0.000000</td>\n      <td>0.000000</td>\n      <td>0.000000</td>\n      <td>0.0</td>\n      <td>0.0</td>\n    </tr>\n    <tr>\n      <th>75%</th>\n      <td>1.000000</td>\n      <td>15.000000</td>\n      <td>0.000000</td>\n      <td>0.000000</td>\n      <td>1.000000</td>\n      <td>0.000000</td>\n      <td>1.000000</td>\n      <td>0.0</td>\n      <td>0.0</td>\n      <td>0.0</td>\n      <td>...</td>\n      <td>0.000000</td>\n      <td>0.0</td>\n      <td>0.0</td>\n      <td>0.000000</td>\n      <td>1.000000</td>\n      <td>1.000000</td>\n      <td>0.000000</td>\n      <td>0.000000</td>\n      <td>0.0</td>\n      <td>0.0</td>\n    </tr>\n    <tr>\n      <th>max</th>\n      <td>1.000000</td>\n      <td>22.000000</td>\n      <td>1.000000</td>\n      <td>1.000000</td>\n      <td>1.000000</td>\n      <td>1.000000</td>\n      <td>1.000000</td>\n      <td>0.0</td>\n      <td>0.0</td>\n      <td>0.0</td>\n      <td>...</td>\n      <td>1.000000</td>\n      <td>0.0</td>\n      <td>0.0</td>\n      <td>1.000000</td>\n      <td>1.000000</td>\n      <td>1.000000</td>\n      <td>1.000000</td>\n      <td>1.000000</td>\n      <td>0.0</td>\n      <td>0.0</td>\n    </tr>\n  </tbody>\n</table>\n<p>8 rows × 205 columns</p>\n</div>"
     },
     "execution_count": 47,
     "metadata": {},
     "output_type": "execute_result"
    }
   ],
   "source": [
    "print(df.dtypes)\n",
    "df.describe()"
   ],
   "metadata": {
    "collapsed": false,
    "pycharm": {
     "name": "#%%\n"
    }
   }
  },
  {
   "cell_type": "code",
   "execution_count": 48,
   "outputs": [
    {
     "data": {
      "text/plain": "  Gender  Age  d 5100-0  d 5100-1  d 5100-2  d 5100-3  d 5100-4  d 5100-8  \\\n0      0   18         0         0         0         0         1         0   \n1      0   22         0         0         0         0         1         0   \n2      0   18         0         0         0         1         0         0   \n3      1   18         0         0         0         0         1         0   \n4      0   19         0         0         0         0         1         0   \n\n   d 5100-9  d 5101-0  ...  d 57022-8  d 57022-9  d 571-0  d 571-1  d 571-2  \\\n0         0         0  ...          0          0        0        0        0   \n1         0         0  ...          0          0        0        0        0   \n2         0         0  ...          0          0        0        0        0   \n3         0         0  ...          0          0        0        0        1   \n4         0         0  ...          0          0        0        0        1   \n\n   d 571-3  d 571-4  d 571-8  d 571-9  Classes  \n0        0        1        0        0        6  \n1        1        0        0        0        6  \n2        1        0        0        0        6  \n3        0        0        0        0        6  \n4        0        0        0        0        6  \n\n[5 rows x 206 columns]",
      "text/html": "<div>\n<style scoped>\n    .dataframe tbody tr th:only-of-type {\n        vertical-align: middle;\n    }\n\n    .dataframe tbody tr th {\n        vertical-align: top;\n    }\n\n    .dataframe thead th {\n        text-align: right;\n    }\n</style>\n<table border=\"1\" class=\"dataframe\">\n  <thead>\n    <tr style=\"text-align: right;\">\n      <th></th>\n      <th>Gender</th>\n      <th>Age</th>\n      <th>d 5100-0</th>\n      <th>d 5100-1</th>\n      <th>d 5100-2</th>\n      <th>d 5100-3</th>\n      <th>d 5100-4</th>\n      <th>d 5100-8</th>\n      <th>d 5100-9</th>\n      <th>d 5101-0</th>\n      <th>...</th>\n      <th>d 57022-8</th>\n      <th>d 57022-9</th>\n      <th>d 571-0</th>\n      <th>d 571-1</th>\n      <th>d 571-2</th>\n      <th>d 571-3</th>\n      <th>d 571-4</th>\n      <th>d 571-8</th>\n      <th>d 571-9</th>\n      <th>Classes</th>\n    </tr>\n  </thead>\n  <tbody>\n    <tr>\n      <th>0</th>\n      <td>0</td>\n      <td>18</td>\n      <td>0</td>\n      <td>0</td>\n      <td>0</td>\n      <td>0</td>\n      <td>1</td>\n      <td>0</td>\n      <td>0</td>\n      <td>0</td>\n      <td>...</td>\n      <td>0</td>\n      <td>0</td>\n      <td>0</td>\n      <td>0</td>\n      <td>0</td>\n      <td>0</td>\n      <td>1</td>\n      <td>0</td>\n      <td>0</td>\n      <td>6</td>\n    </tr>\n    <tr>\n      <th>1</th>\n      <td>0</td>\n      <td>22</td>\n      <td>0</td>\n      <td>0</td>\n      <td>0</td>\n      <td>0</td>\n      <td>1</td>\n      <td>0</td>\n      <td>0</td>\n      <td>0</td>\n      <td>...</td>\n      <td>0</td>\n      <td>0</td>\n      <td>0</td>\n      <td>0</td>\n      <td>0</td>\n      <td>1</td>\n      <td>0</td>\n      <td>0</td>\n      <td>0</td>\n      <td>6</td>\n    </tr>\n    <tr>\n      <th>2</th>\n      <td>0</td>\n      <td>18</td>\n      <td>0</td>\n      <td>0</td>\n      <td>0</td>\n      <td>1</td>\n      <td>0</td>\n      <td>0</td>\n      <td>0</td>\n      <td>0</td>\n      <td>...</td>\n      <td>0</td>\n      <td>0</td>\n      <td>0</td>\n      <td>0</td>\n      <td>0</td>\n      <td>1</td>\n      <td>0</td>\n      <td>0</td>\n      <td>0</td>\n      <td>6</td>\n    </tr>\n    <tr>\n      <th>3</th>\n      <td>1</td>\n      <td>18</td>\n      <td>0</td>\n      <td>0</td>\n      <td>0</td>\n      <td>0</td>\n      <td>1</td>\n      <td>0</td>\n      <td>0</td>\n      <td>0</td>\n      <td>...</td>\n      <td>0</td>\n      <td>0</td>\n      <td>0</td>\n      <td>0</td>\n      <td>1</td>\n      <td>0</td>\n      <td>0</td>\n      <td>0</td>\n      <td>0</td>\n      <td>6</td>\n    </tr>\n    <tr>\n      <th>4</th>\n      <td>0</td>\n      <td>19</td>\n      <td>0</td>\n      <td>0</td>\n      <td>0</td>\n      <td>0</td>\n      <td>1</td>\n      <td>0</td>\n      <td>0</td>\n      <td>0</td>\n      <td>...</td>\n      <td>0</td>\n      <td>0</td>\n      <td>0</td>\n      <td>0</td>\n      <td>1</td>\n      <td>0</td>\n      <td>0</td>\n      <td>0</td>\n      <td>0</td>\n      <td>6</td>\n    </tr>\n  </tbody>\n</table>\n<p>5 rows × 206 columns</p>\n</div>"
     },
     "execution_count": 48,
     "metadata": {},
     "output_type": "execute_result"
    }
   ],
   "source": [
    "df['Gender'] = pd.Categorical(df['Gender'])\n",
    "df['Age'] = pd.to_numeric(df['Age'])\n",
    "\n",
    "# remove string \"class\" from Classes attribute\n",
    "df['Classes'] = df['Classes'].str.replace('class','')\n",
    "df['Classes'] = pd.Categorical(df['Classes'])\n",
    "df.head()\n",
    "\n",
    "# data is sparse"
   ],
   "metadata": {
    "collapsed": false,
    "pycharm": {
     "name": "#%%\n"
    }
   }
  },
  {
   "cell_type": "code",
   "execution_count": 49,
   "outputs": [
    {
     "data": {
      "text/plain": "<Figure size 720x360 with 1 Axes>",
      "image/png": "[encoded data removed]"
     },
     "metadata": {},
     "output_type": "display_data"
    }
   ],
   "source": [
    "plt.figure(figsize= (10,5))\n",
    "plt.title('Male or Female')\n",
    "df['Gender'].value_counts().plot(kind='bar')\n",
    "plt.show()\n",
    "\n"
   ],
   "metadata": {
    "collapsed": false,
    "pycharm": {
     "name": "#%%\n"
    }
   }
  },
  {
   "cell_type": "code",
   "execution_count": 50,
   "outputs": [
    {
     "data": {
      "text/plain": "<Figure size 720x360 with 1 Axes>",
      "image/png": "[encoded data removed]"
     },
     "metadata": {},
     "output_type": "display_data"
    }
   ],
   "source": [
    "plt.figure(figsize= (10,5))\n",
    "plt.title('Age')\n",
    "df['Age'].hist(bins=15, alpha=0.9)\n",
    "plt.show()\n"
   ],
   "metadata": {
    "collapsed": false,
    "pycharm": {
     "name": "#%%\n"
    }
   }
  },
  {
   "cell_type": "code",
   "execution_count": 51,
   "outputs": [
    {
     "data": {
      "application/vnd.plotly.v1+json": {
       "data": [
        {
         "hovertemplate": "class=6<br>0=%{x}<br>1=%{y}<extra></extra>",
         "legendgroup": "6",
         "marker": {
          "color": "#636efa",
          "symbol": "circle"
         },
         "mode": "markers",
         "name": "6",
         "orientation": "v",
         "showlegend": true,
         "x": [
          6.484847068786621,
          5.987117290496826,
          5.808929920196533,
          5.8822102546691895,
          6.0219855308532715,
          7.092867374420166,
          7.23903751373291,
          7.431374549865723,
          6.982159614562988,
          7.500725746154785,
          3.6013901233673096,
          7.078554153442383,
          7.677083969116211,
          7.5079779624938965,
          7.717723369598389,
          7.689883232116699,
          7.235169887542725,
          7.9216179847717285,
          7.532385349273682,
          7.258911609649658,
          6.786279678344727,
          6.3715739250183105,
          6.863966941833496,
          5.9597296714782715,
          6.758526802062988,
          6.9756035804748535,
          6.6819610595703125,
          6.925267219543457,
          7.485431671142578
         ],
         "xaxis": "x",
         "y": [
          13.371552467346191,
          13.24953842163086,
          13.450258255004883,
          12.977001190185547,
          13.292116165161133,
          12.693554878234863,
          10.492454528808594,
          10.489330291748047,
          11.133866310119629,
          10.884819030761719,
          12.57679557800293,
          12.016610145568848,
          10.801092147827148,
          11.74267864227295,
          11.910726547241211,
          11.308980941772461,
          10.837692260742188,
          11.518989562988281,
          11.118734359741211,
          11.85751724243164,
          11.913191795349121,
          12.981311798095703,
          12.962332725524902,
          13.472644805908203,
          12.325240135192871,
          12.253588676452637,
          10.465693473815918,
          10.481472969055176,
          12.334355354309082
         ],
         "yaxis": "y",
         "type": "scatter"
        },
        {
         "hovertemplate": "class=2<br>0=%{x}<br>1=%{y}<extra></extra>",
         "legendgroup": "2",
         "marker": {
          "color": "#EF553B",
          "symbol": "circle"
         },
         "mode": "markers",
         "name": "2",
         "orientation": "v",
         "showlegend": true,
         "x": [
          2.1644396781921387,
          1.9582782983779907,
          2.558835744857788,
          2.090158462524414,
          1.8674860000610352,
          2.032947540283203,
          1.9534697532653809
         ],
         "xaxis": "x",
         "y": [
          13.739754676818848,
          13.375892639160156,
          11.966963768005371,
          12.405041694641113,
          12.880118370056152,
          12.720498085021973,
          13.166592597961426
         ],
         "yaxis": "y",
         "type": "scatter"
        },
        {
         "hovertemplate": "class=4<br>0=%{x}<br>1=%{y}<extra></extra>",
         "legendgroup": "4",
         "marker": {
          "color": "#00cc96",
          "symbol": "circle"
         },
         "mode": "markers",
         "name": "4",
         "orientation": "v",
         "showlegend": true,
         "x": [
          3.31292462348938,
          3.357754707336426,
          3.362987756729126,
          3.4566407203674316,
          3.3246145248413086,
          3.2086269855499268,
          3.1942174434661865,
          3.4076366424560547,
          3.493030071258545,
          3.4603967666625977,
          2.081552028656006,
          2.8628005981445312
         ],
         "xaxis": "x",
         "y": [
          13.840242385864258,
          11.42615032196045,
          11.565361022949219,
          11.721503257751465,
          12.037553787231445,
          12.895490646362305,
          13.767736434936523,
          13.24344539642334,
          13.880945205688477,
          13.471524238586426,
          13.222453117370605,
          13.702412605285645
         ],
         "yaxis": "y",
         "type": "scatter"
        },
        {
         "hovertemplate": "class=7<br>0=%{x}<br>1=%{y}<extra></extra>",
         "legendgroup": "7",
         "marker": {
          "color": "#ab63fa",
          "symbol": "circle"
         },
         "mode": "markers",
         "name": "7",
         "orientation": "v",
         "showlegend": true,
         "x": [
          4.279030799865723,
          4.738880634307861,
          4.562168598175049,
          3.9931023120880127,
          4.499223232269287,
          4.333127975463867,
          3.873281240463257,
          4.339630126953125,
          4.046867370605469,
          3.8726813793182373,
          3.937195301055908,
          4.183969497680664,
          3.9747753143310547,
          3.8066253662109375,
          4.040370464324951,
          4.396923542022705
         ],
         "xaxis": "x",
         "y": [
          9.648743629455566,
          9.10047435760498,
          9.334328651428223,
          11.734870910644531,
          8.975778579711914,
          9.517361640930176,
          9.724098205566406,
          9.143126487731934,
          9.250008583068848,
          9.306842803955078,
          12.662242889404297,
          9.063650131225586,
          12.941699981689453,
          13.220959663391113,
          13.408316612243652,
          13.610282897949219
         ],
         "yaxis": "y",
         "type": "scatter"
        },
        {
         "hovertemplate": "class=1<br>0=%{x}<br>1=%{y}<extra></extra>",
         "legendgroup": "1",
         "marker": {
          "color": "#FFA15A",
          "symbol": "circle"
         },
         "mode": "markers",
         "name": "1",
         "orientation": "v",
         "showlegend": true,
         "x": [
          2.3803014755249023,
          2.6179463863372803
         ],
         "xaxis": "x",
         "y": [
          12.182255744934082,
          13.221875190734863
         ],
         "yaxis": "y",
         "type": "scatter"
        },
        {
         "hovertemplate": "class=5<br>0=%{x}<br>1=%{y}<extra></extra>",
         "legendgroup": "5",
         "marker": {
          "color": "#19d3f3",
          "symbol": "circle"
         },
         "mode": "markers",
         "name": "5",
         "orientation": "v",
         "showlegend": true,
         "x": [
          7.458281517028809,
          3.579944610595703,
          3.0564398765563965
         ],
         "xaxis": "x",
         "y": [
          11.268701553344727,
          14.288568496704102,
          13.935409545898438
         ],
         "yaxis": "y",
         "type": "scatter"
        },
        {
         "hovertemplate": "class=3<br>0=%{x}<br>1=%{y}<extra></extra>",
         "legendgroup": "3",
         "marker": {
          "color": "#FF6692",
          "symbol": "circle"
         },
         "mode": "markers",
         "name": "3",
         "orientation": "v",
         "showlegend": true,
         "x": [
          3.0806076526641846
         ],
         "xaxis": "x",
         "y": [
          11.851258277893066
         ],
         "yaxis": "y",
         "type": "scatter"
        }
       ],
       "layout": {
        "template": {
         "data": {
          "bar": [
           {
            "error_x": {
             "color": "#2a3f5f"
            },
            "error_y": {
             "color": "#2a3f5f"
            },
            "marker": {
             "line": {
              "color": "#E5ECF6",
              "width": 0.5
             },
             "pattern": {
              "fillmode": "overlay",
              "size": 10,
              "solidity": 0.2
             }
            },
            "type": "bar"
           }
          ],
          "barpolar": [
           {
            "marker": {
             "line": {
              "color": "#E5ECF6",
              "width": 0.5
             },
             "pattern": {
              "fillmode": "overlay",
              "size": 10,
              "solidity": 0.2
             }
            },
            "type": "barpolar"
           }
          ],
          "carpet": [
           {
            "aaxis": {
             "endlinecolor": "#2a3f5f",
             "gridcolor": "white",
             "linecolor": "white",
             "minorgridcolor": "white",
             "startlinecolor": "#2a3f5f"
            },
            "baxis": {
             "endlinecolor": "#2a3f5f",
             "gridcolor": "white",
             "linecolor": "white",
             "minorgridcolor": "white",
             "startlinecolor": "#2a3f5f"
            },
            "type": "carpet"
           }
          ],
          "choropleth": [
           {
            "colorbar": {
             "outlinewidth": 0,
             "ticks": ""
            },
            "type": "choropleth"
           }
          ],
          "contour": [
           {
            "colorbar": {
             "outlinewidth": 0,
             "ticks": ""
            },
            "colorscale": [
             [
              0.0,
              "#0d0887"
             ],
             [
              0.1111111111111111,
              "#46039f"
             ],
             [
              0.2222222222222222,
              "#7201a8"
             ],
             [
              0.3333333333333333,
              "#9c179e"
             ],
             [
              0.4444444444444444,
              "#bd3786"
             ],
             [
              0.5555555555555556,
              "#d8576b"
             ],
             [
              0.6666666666666666,
              "#ed7953"
             ],
             [
              0.7777777777777778,
              "#fb9f3a"
             ],
             [
              0.8888888888888888,
              "#fdca26"
             ],
             [
              1.0,
              "#f0f921"
             ]
            ],
            "type": "contour"
           }
          ],
          "contourcarpet": [
           {
            "colorbar": {
             "outlinewidth": 0,
             "ticks": ""
            },
            "type": "contourcarpet"
           }
          ],
          "heatmap": [
           {
            "colorbar": {
             "outlinewidth": 0,
             "ticks": ""
            },
            "colorscale": [
             [
              0.0,
              "#0d0887"
             ],
             [
              0.1111111111111111,
              "#46039f"
             ],
             [
              0.2222222222222222,
              "#7201a8"
             ],
             [
              0.3333333333333333,
              "#9c179e"
             ],
             [
              0.4444444444444444,
              "#bd3786"
             ],
             [
              0.5555555555555556,
              "#d8576b"
             ],
             [
              0.6666666666666666,
              "#ed7953"
             ],
             [
              0.7777777777777778,
              "#fb9f3a"
             ],
             [
              0.8888888888888888,
              "#fdca26"
             ],
             [
              1.0,
              "#f0f921"
             ]
            ],
            "type": "heatmap"
           }
          ],
          "heatmapgl": [
           {
            "colorbar": {
             "outlinewidth": 0,
             "ticks": ""
            },
            "colorscale": [
             [
              0.0,
              "#0d0887"
             ],
             [
              0.1111111111111111,
              "#46039f"
             ],
             [
              0.2222222222222222,
              "#7201a8"
             ],
             [
              0.3333333333333333,
              "#9c179e"
             ],
             [
              0.4444444444444444,
              "#bd3786"
             ],
             [
              0.5555555555555556,
              "#d8576b"
             ],
             [
              0.6666666666666666,
              "#ed7953"
             ],
             [
              0.7777777777777778,
              "#fb9f3a"
             ],
             [
              0.8888888888888888,
              "#fdca26"
             ],
             [
              1.0,
              "#f0f921"
             ]
            ],
            "type": "heatmapgl"
           }
          ],
          "histogram": [
           {
            "marker": {
             "pattern": {
              "fillmode": "overlay",
              "size": 10,
              "solidity": 0.2
             }
            },
            "type": "histogram"
           }
          ],
          "histogram2d": [
           {
            "colorbar": {
             "outlinewidth": 0,
             "ticks": ""
            },
            "colorscale": [
             [
              0.0,
              "#0d0887"
             ],
             [
              0.1111111111111111,
              "#46039f"
             ],
             [
              0.2222222222222222,
              "#7201a8"
             ],
             [
              0.3333333333333333,
              "#9c179e"
             ],
             [
              0.4444444444444444,
              "#bd3786"
             ],
             [
              0.5555555555555556,
              "#d8576b"
             ],
             [
              0.6666666666666666,
              "#ed7953"
             ],
             [
              0.7777777777777778,
              "#fb9f3a"
             ],
             [
              0.8888888888888888,
              "#fdca26"
             ],
             [
              1.0,
              "#f0f921"
             ]
            ],
            "type": "histogram2d"
           }
          ],
          "histogram2dcontour": [
           {
            "colorbar": {
             "outlinewidth": 0,
             "ticks": ""
            },
            "colorscale": [
             [
              0.0,
              "#0d0887"
             ],
             [
              0.1111111111111111,
              "#46039f"
             ],
             [
              0.2222222222222222,
              "#7201a8"
             ],
             [
              0.3333333333333333,
              "#9c179e"
             ],
             [
              0.4444444444444444,
              "#bd3786"
             ],
             [
              0.5555555555555556,
              "#d8576b"
             ],
             [
              0.6666666666666666,
              "#ed7953"
             ],
             [
              0.7777777777777778,
              "#fb9f3a"
             ],
             [
              0.8888888888888888,
              "#fdca26"
             ],
             [
              1.0,
              "#f0f921"
             ]
            ],
            "type": "histogram2dcontour"
           }
          ],
          "mesh3d": [
           {
            "colorbar": {
             "outlinewidth": 0,
             "ticks": ""
            },
            "type": "mesh3d"
           }
          ],
          "parcoords": [
           {
            "line": {
             "colorbar": {
              "outlinewidth": 0,
              "ticks": ""
             }
            },
            "type": "parcoords"
           }
          ],
          "pie": [
           {
            "automargin": true,
            "type": "pie"
           }
          ],
          "scatter": [
           {
            "marker": {
             "colorbar": {
              "outlinewidth": 0,
              "ticks": ""
             }
            },
            "type": "scatter"
           }
          ],
          "scatter3d": [
           {
            "line": {
             "colorbar": {
              "outlinewidth": 0,
              "ticks": ""
             }
            },
            "marker": {
             "colorbar": {
              "outlinewidth": 0,
              "ticks": ""
             }
            },
            "type": "scatter3d"
           }
          ],
          "scattercarpet": [
           {
            "marker": {
             "colorbar": {
              "outlinewidth": 0,
              "ticks": ""
             }
            },
            "type": "scattercarpet"
           }
          ],
          "scattergeo": [
           {
            "marker": {
             "colorbar": {
              "outlinewidth": 0,
              "ticks": ""
             }
            },
            "type": "scattergeo"
           }
          ],
          "scattergl": [
           {
            "marker": {
             "colorbar": {
              "outlinewidth": 0,
              "ticks": ""
             }
            },
            "type": "scattergl"
           }
          ],
          "scattermapbox": [
           {
            "marker": {
             "colorbar": {
              "outlinewidth": 0,
              "ticks": ""
             }
            },
            "type": "scattermapbox"
           }
          ],
          "scatterpolar": [
           {
            "marker": {
             "colorbar": {
              "outlinewidth": 0,
              "ticks": ""
             }
            },
            "type": "scatterpolar"
           }
          ],
          "scatterpolargl": [
           {
            "marker": {
             "colorbar": {
              "outlinewidth": 0,
              "ticks": ""
             }
            },
            "type": "scatterpolargl"
           }
          ],
          "scatterternary": [
           {
            "marker": {
             "colorbar": {
              "outlinewidth": 0,
              "ticks": ""
             }
            },
            "type": "scatterternary"
           }
          ],
          "surface": [
           {
            "colorbar": {
             "outlinewidth": 0,
             "ticks": ""
            },
            "colorscale": [
             [
              0.0,
              "#0d0887"
             ],
             [
              0.1111111111111111,
              "#46039f"
             ],
             [
              0.2222222222222222,
              "#7201a8"
             ],
             [
              0.3333333333333333,
              "#9c179e"
             ],
             [
              0.4444444444444444,
              "#bd3786"
             ],
             [
              0.5555555555555556,
              "#d8576b"
             ],
             [
              0.6666666666666666,
              "#ed7953"
             ],
             [
              0.7777777777777778,
              "#fb9f3a"
             ],
             [
              0.8888888888888888,
              "#fdca26"
             ],
             [
              1.0,
              "#f0f921"
             ]
            ],
            "type": "surface"
           }
          ],
          "table": [
           {
            "cells": {
             "fill": {
              "color": "#EBF0F8"
             },
             "line": {
              "color": "white"
             }
            },
            "header": {
             "fill": {
              "color": "#C8D4E3"
             },
             "line": {
              "color": "white"
             }
            },
            "type": "table"
           }
          ]
         },
         "layout": {
          "annotationdefaults": {
           "arrowcolor": "#2a3f5f",
           "arrowhead": 0,
           "arrowwidth": 1
          },
          "autotypenumbers": "strict",
          "coloraxis": {
           "colorbar": {
            "outlinewidth": 0,
            "ticks": ""
           }
          },
          "colorscale": {
           "diverging": [
            [
             0,
             "#8e0152"
            ],
            [
             0.1,
             "#c51b7d"
            ],
            [
             0.2,
             "#de77ae"
            ],
            [
             0.3,
             "#f1b6da"
            ],
            [
             0.4,
             "#fde0ef"
            ],
            [
             0.5,
             "#f7f7f7"
            ],
            [
             0.6,
             "#e6f5d0"
            ],
            [
             0.7,
             "#b8e186"
            ],
            [
             0.8,
             "#7fbc41"
            ],
            [
             0.9,
             "#4d9221"
            ],
            [
             1,
             "#276419"
            ]
           ],
           "sequential": [
            [
             0.0,
             "#0d0887"
            ],
            [
             0.1111111111111111,
             "#46039f"
            ],
            [
             0.2222222222222222,
             "#7201a8"
            ],
            [
             0.3333333333333333,
             "#9c179e"
            ],
            [
             0.4444444444444444,
             "#bd3786"
            ],
            [
             0.5555555555555556,
             "#d8576b"
            ],
            [
             0.6666666666666666,
             "#ed7953"
            ],
            [
             0.7777777777777778,
             "#fb9f3a"
            ],
            [
             0.8888888888888888,
             "#fdca26"
            ],
            [
             1.0,
             "#f0f921"
            ]
           ],
           "sequentialminus": [
            [
             0.0,
             "#0d0887"
            ],
            [
             0.1111111111111111,
             "#46039f"
            ],
            [
             0.2222222222222222,
             "#7201a8"
            ],
            [
             0.3333333333333333,
             "#9c179e"
            ],
            [
             0.4444444444444444,
             "#bd3786"
            ],
            [
             0.5555555555555556,
             "#d8576b"
            ],
            [
             0.6666666666666666,
             "#ed7953"
            ],
            [
             0.7777777777777778,
             "#fb9f3a"
            ],
            [
             0.8888888888888888,
             "#fdca26"
            ],
            [
             1.0,
             "#f0f921"
            ]
           ]
          },
          "colorway": [
           "#636efa",
           "#EF553B",
           "#00cc96",
           "#ab63fa",
           "#FFA15A",
           "#19d3f3",
           "#FF6692",
           "#B6E880",
           "#FF97FF",
           "#FECB52"
          ],
          "font": {
           "color": "#2a3f5f"
          },
          "geo": {
           "bgcolor": "white",
           "lakecolor": "white",
           "landcolor": "#E5ECF6",
           "showlakes": true,
           "showland": true,
           "subunitcolor": "white"
          },
          "hoverlabel": {
           "align": "left"
          },
          "hovermode": "closest",
          "mapbox": {
           "style": "light"
          },
          "paper_bgcolor": "white",
          "plot_bgcolor": "#E5ECF6",
          "polar": {
           "angularaxis": {
            "gridcolor": "white",
            "linecolor": "white",
            "ticks": ""
           },
           "bgcolor": "#E5ECF6",
           "radialaxis": {
            "gridcolor": "white",
            "linecolor": "white",
            "ticks": ""
           }
          },
          "scene": {
           "xaxis": {
            "backgroundcolor": "#E5ECF6",
            "gridcolor": "white",
            "gridwidth": 2,
            "linecolor": "white",
            "showbackground": true,
            "ticks": "",
            "zerolinecolor": "white"
           },
           "yaxis": {
            "backgroundcolor": "#E5ECF6",
            "gridcolor": "white",
            "gridwidth": 2,
            "linecolor": "white",
            "showbackground": true,
            "ticks": "",
            "zerolinecolor": "white"
           },
           "zaxis": {
            "backgroundcolor": "#E5ECF6",
            "gridcolor": "white",
            "gridwidth": 2,
            "linecolor": "white",
            "showbackground": true,
            "ticks": "",
            "zerolinecolor": "white"
           }
          },
          "shapedefaults": {
           "line": {
            "color": "#2a3f5f"
           }
          },
          "ternary": {
           "aaxis": {
            "gridcolor": "white",
            "linecolor": "white",
            "ticks": ""
           },
           "baxis": {
            "gridcolor": "white",
            "linecolor": "white",
            "ticks": ""
           },
           "bgcolor": "#E5ECF6",
           "caxis": {
            "gridcolor": "white",
            "linecolor": "white",
            "ticks": ""
           }
          },
          "title": {
           "x": 0.05
          },
          "xaxis": {
           "automargin": true,
           "gridcolor": "white",
           "linecolor": "white",
           "ticks": "",
           "title": {
            "standoff": 15
           },
           "zerolinecolor": "white",
           "zerolinewidth": 2
          },
          "yaxis": {
           "automargin": true,
           "gridcolor": "white",
           "linecolor": "white",
           "ticks": "",
           "title": {
            "standoff": 15
           },
           "zerolinecolor": "white",
           "zerolinewidth": 2
          }
         }
        },
        "xaxis": {
         "anchor": "y",
         "domain": [
          0.0,
          1.0
         ],
         "title": {
          "text": "0"
         }
        },
        "yaxis": {
         "anchor": "x",
         "domain": [
          0.0,
          1.0
         ],
         "title": {
          "text": "1"
         }
        },
        "legend": {
         "title": {
          "text": "class"
         },
         "tracegroupgap": 0
        },
        "margin": {
         "t": 60
        }
       },
       "config": {
        "plotlyServerURL": "https://plot.ly"
       }
      },
      "text/html": "<div>                            <div id=\"d73eb4c9-a0f6-4250-95ab-b38a4b37f5e4\" class=\"plotly-graph-div\" style=\"height:525px; width:100%;\"></div>            <script type=\"text/javascript\">                require([\"plotly\"], function(Plotly) {                    window.PLOTLYENV=window.PLOTLYENV || {};                                    if (document.getElementById(\"d73eb4c9-a0f6-4250-95ab-b38a4b37f5e4\")) {                    Plotly.newPlot(                        \"d73eb4c9-a0f6-4250-95ab-b38a4b37f5e4\",                        [{\"hovertemplate\":\"class=6<br>0=%{x}<br>1=%{y}<extra></extra>\",\"legendgroup\":\"6\",\"marker\":{\"color\":\"#636efa\",\"symbol\":\"circle\"},\"mode\":\"markers\",\"name\":\"6\",\"orientation\":\"v\",\"showlegend\":true,\"x\":[6.484847068786621,5.987117290496826,5.808929920196533,5.8822102546691895,6.0219855308532715,7.092867374420166,7.23903751373291,7.431374549865723,6.982159614562988,7.500725746154785,3.6013901233673096,7.078554153442383,7.677083969116211,7.5079779624938965,7.717723369598389,7.689883232116699,7.235169887542725,7.9216179847717285,7.532385349273682,7.258911609649658,6.786279678344727,6.3715739250183105,6.863966941833496,5.9597296714782715,6.758526802062988,6.9756035804748535,6.6819610595703125,6.925267219543457,7.485431671142578],\"xaxis\":\"x\",\"y\":[13.371552467346191,13.24953842163086,13.450258255004883,12.977001190185547,13.292116165161133,12.693554878234863,10.492454528808594,10.489330291748047,11.133866310119629,10.884819030761719,12.57679557800293,12.016610145568848,10.801092147827148,11.74267864227295,11.910726547241211,11.308980941772461,10.837692260742188,11.518989562988281,11.118734359741211,11.85751724243164,11.913191795349121,12.981311798095703,12.962332725524902,13.472644805908203,12.325240135192871,12.253588676452637,10.465693473815918,10.481472969055176,12.334355354309082],\"yaxis\":\"y\",\"type\":\"scatter\"},{\"hovertemplate\":\"class=2<br>0=%{x}<br>1=%{y}<extra></extra>\",\"legendgroup\":\"2\",\"marker\":{\"color\":\"#EF553B\",\"symbol\":\"circle\"},\"mode\":\"markers\",\"name\":\"2\",\"orientation\":\"v\",\"showlegend\":true,\"x\":[2.1644396781921387,1.9582782983779907,2.558835744857788,2.090158462524414,1.8674860000610352,2.032947540283203,1.9534697532653809],\"xaxis\":\"x\",\"y\":[13.739754676818848,13.375892639160156,11.966963768005371,12.405041694641113,12.880118370056152,12.720498085021973,13.166592597961426],\"yaxis\":\"y\",\"type\":\"scatter\"},{\"hovertemplate\":\"class=4<br>0=%{x}<br>1=%{y}<extra></extra>\",\"legendgroup\":\"4\",\"marker\":{\"color\":\"#00cc96\",\"symbol\":\"circle\"},\"mode\":\"markers\",\"name\":\"4\",\"orientation\":\"v\",\"showlegend\":true,\"x\":[3.31292462348938,3.357754707336426,3.362987756729126,3.4566407203674316,3.3246145248413086,3.2086269855499268,3.1942174434661865,3.4076366424560547,3.493030071258545,3.4603967666625977,2.081552028656006,2.8628005981445312],\"xaxis\":\"x\",\"y\":[13.840242385864258,11.42615032196045,11.565361022949219,11.721503257751465,12.037553787231445,12.895490646362305,13.767736434936523,13.24344539642334,13.880945205688477,13.471524238586426,13.222453117370605,13.702412605285645],\"yaxis\":\"y\",\"type\":\"scatter\"},{\"hovertemplate\":\"class=7<br>0=%{x}<br>1=%{y}<extra></extra>\",\"legendgroup\":\"7\",\"marker\":{\"color\":\"#ab63fa\",\"symbol\":\"circle\"},\"mode\":\"markers\",\"name\":\"7\",\"orientation\":\"v\",\"showlegend\":true,\"x\":[4.279030799865723,4.738880634307861,4.562168598175049,3.9931023120880127,4.499223232269287,4.333127975463867,3.873281240463257,4.339630126953125,4.046867370605469,3.8726813793182373,3.937195301055908,4.183969497680664,3.9747753143310547,3.8066253662109375,4.040370464324951,4.396923542022705],\"xaxis\":\"x\",\"y\":[9.648743629455566,9.10047435760498,9.334328651428223,11.734870910644531,8.975778579711914,9.517361640930176,9.724098205566406,9.143126487731934,9.250008583068848,9.306842803955078,12.662242889404297,9.063650131225586,12.941699981689453,13.220959663391113,13.408316612243652,13.610282897949219],\"yaxis\":\"y\",\"type\":\"scatter\"},{\"hovertemplate\":\"class=1<br>0=%{x}<br>1=%{y}<extra></extra>\",\"legendgroup\":\"1\",\"marker\":{\"color\":\"#FFA15A\",\"symbol\":\"circle\"},\"mode\":\"markers\",\"name\":\"1\",\"orientation\":\"v\",\"showlegend\":true,\"x\":[2.3803014755249023,2.6179463863372803],\"xaxis\":\"x\",\"y\":[12.182255744934082,13.221875190734863],\"yaxis\":\"y\",\"type\":\"scatter\"},{\"hovertemplate\":\"class=5<br>0=%{x}<br>1=%{y}<extra></extra>\",\"legendgroup\":\"5\",\"marker\":{\"color\":\"#19d3f3\",\"symbol\":\"circle\"},\"mode\":\"markers\",\"name\":\"5\",\"orientation\":\"v\",\"showlegend\":true,\"x\":[7.458281517028809,3.579944610595703,3.0564398765563965],\"xaxis\":\"x\",\"y\":[11.268701553344727,14.288568496704102,13.935409545898438],\"yaxis\":\"y\",\"type\":\"scatter\"},{\"hovertemplate\":\"class=3<br>0=%{x}<br>1=%{y}<extra></extra>\",\"legendgroup\":\"3\",\"marker\":{\"color\":\"#FF6692\",\"symbol\":\"circle\"},\"mode\":\"markers\",\"name\":\"3\",\"orientation\":\"v\",\"showlegend\":true,\"x\":[3.0806076526641846],\"xaxis\":\"x\",\"y\":[11.851258277893066],\"yaxis\":\"y\",\"type\":\"scatter\"}],                        {\"template\":{\"data\":{\"bar\":[{\"error_x\":{\"color\":\"#2a3f5f\"},\"error_y\":{\"color\":\"#2a3f5f\"},\"marker\":{\"line\":{\"color\":\"#E5ECF6\",\"width\":0.5},\"pattern\":{\"fillmode\":\"overlay\",\"size\":10,\"solidity\":0.2}},\"type\":\"bar\"}],\"barpolar\":[{\"marker\":{\"line\":{\"color\":\"#E5ECF6\",\"width\":0.5},\"pattern\":{\"fillmode\":\"overlay\",\"size\":10,\"solidity\":0.2}},\"type\":\"barpolar\"}],\"carpet\":[{\"aaxis\":{\"endlinecolor\":\"#2a3f5f\",\"gridcolor\":\"white\",\"linecolor\":\"white\",\"minorgridcolor\":\"white\",\"startlinecolor\":\"#2a3f5f\"},\"baxis\":{\"endlinecolor\":\"#2a3f5f\",\"gridcolor\":\"white\",\"linecolor\":\"white\",\"minorgridcolor\":\"white\",\"startlinecolor\":\"#2a3f5f\"},\"type\":\"carpet\"}],\"choropleth\":[{\"colorbar\":{\"outlinewidth\":0,\"ticks\":\"\"},\"type\":\"choropleth\"}],\"contour\":[{\"colorbar\":{\"outlinewidth\":0,\"ticks\":\"\"},\"colorscale\":[[0.0,\"#0d0887\"],[0.1111111111111111,\"#46039f\"],[0.2222222222222222,\"#7201a8\"],[0.3333333333333333,\"#9c179e\"],[0.4444444444444444,\"#bd3786\"],[0.5555555555555556,\"#d8576b\"],[0.6666666666666666,\"#ed7953\"],[0.7777777777777778,\"#fb9f3a\"],[0.8888888888888888,\"#fdca26\"],[1.0,\"#f0f921\"]],\"type\":\"contour\"}],\"contourcarpet\":[{\"colorbar\":{\"outlinewidth\":0,\"ticks\":\"\"},\"type\":\"contourcarpet\"}],\"heatmap\":[{\"colorbar\":{\"outlinewidth\":0,\"ticks\":\"\"},\"colorscale\":[[0.0,\"#0d0887\"],[0.1111111111111111,\"#46039f\"],[0.2222222222222222,\"#7201a8\"],[0.3333333333333333,\"#9c179e\"],[0.4444444444444444,\"#bd3786\"],[0.5555555555555556,\"#d8576b\"],[0.6666666666666666,\"#ed7953\"],[0.7777777777777778,\"#fb9f3a\"],[0.8888888888888888,\"#fdca26\"],[1.0,\"#f0f921\"]],\"type\":\"heatmap\"}],\"heatmapgl\":[{\"colorbar\":{\"outlinewidth\":0,\"ticks\":\"\"},\"colorscale\":[[0.0,\"#0d0887\"],[0.1111111111111111,\"#46039f\"],[0.2222222222222222,\"#7201a8\"],[0.3333333333333333,\"#9c179e\"],[0.4444444444444444,\"#bd3786\"],[0.5555555555555556,\"#d8576b\"],[0.6666666666666666,\"#ed7953\"],[0.7777777777777778,\"#fb9f3a\"],[0.8888888888888888,\"#fdca26\"],[1.0,\"#f0f921\"]],\"type\":\"heatmapgl\"}],\"histogram\":[{\"marker\":{\"pattern\":{\"fillmode\":\"overlay\",\"size\":10,\"solidity\":0.2}},\"type\":\"histogram\"}],\"histogram2d\":[{\"colorbar\":{\"outlinewidth\":0,\"ticks\":\"\"},\"colorscale\":[[0.0,\"#0d0887\"],[0.1111111111111111,\"#46039f\"],[0.2222222222222222,\"#7201a8\"],[0.3333333333333333,\"#9c179e\"],[0.4444444444444444,\"#bd3786\"],[0.5555555555555556,\"#d8576b\"],[0.6666666666666666,\"#ed7953\"],[0.7777777777777778,\"#fb9f3a\"],[0.8888888888888888,\"#fdca26\"],[1.0,\"#f0f921\"]],\"type\":\"histogram2d\"}],\"histogram2dcontour\":[{\"colorbar\":{\"outlinewidth\":0,\"ticks\":\"\"},\"colorscale\":[[0.0,\"#0d0887\"],[0.1111111111111111,\"#46039f\"],[0.2222222222222222,\"#7201a8\"],[0.3333333333333333,\"#9c179e\"],[0.4444444444444444,\"#bd3786\"],[0.5555555555555556,\"#d8576b\"],[0.6666666666666666,\"#ed7953\"],[0.7777777777777778,\"#fb9f3a\"],[0.8888888888888888,\"#fdca26\"],[1.0,\"#f0f921\"]],\"type\":\"histogram2dcontour\"}],\"mesh3d\":[{\"colorbar\":{\"outlinewidth\":0,\"ticks\":\"\"},\"type\":\"mesh3d\"}],\"parcoords\":[{\"line\":{\"colorbar\":{\"outlinewidth\":0,\"ticks\":\"\"}},\"type\":\"parcoords\"}],\"pie\":[{\"automargin\":true,\"type\":\"pie\"}],\"scatter\":[{\"marker\":{\"colorbar\":{\"outlinewidth\":0,\"ticks\":\"\"}},\"type\":\"scatter\"}],\"scatter3d\":[{\"line\":{\"colorbar\":{\"outlinewidth\":0,\"ticks\":\"\"}},\"marker\":{\"colorbar\":{\"outlinewidth\":0,\"ticks\":\"\"}},\"type\":\"scatter3d\"}],\"scattercarpet\":[{\"marker\":{\"colorbar\":{\"outlinewidth\":0,\"ticks\":\"\"}},\"type\":\"scattercarpet\"}],\"scattergeo\":[{\"marker\":{\"colorbar\":{\"outlinewidth\":0,\"ticks\":\"\"}},\"type\":\"scattergeo\"}],\"scattergl\":[{\"marker\":{\"colorbar\":{\"outlinewidth\":0,\"ticks\":\"\"}},\"type\":\"scattergl\"}],\"scattermapbox\":[{\"marker\":{\"colorbar\":{\"outlinewidth\":0,\"ticks\":\"\"}},\"type\":\"scattermapbox\"}],\"scatterpolar\":[{\"marker\":{\"colorbar\":{\"outlinewidth\":0,\"ticks\":\"\"}},\"type\":\"scatterpolar\"}],\"scatterpolargl\":[{\"marker\":{\"colorbar\":{\"outlinewidth\":0,\"ticks\":\"\"}},\"type\":\"scatterpolargl\"}],\"scatterternary\":[{\"marker\":{\"colorbar\":{\"outlinewidth\":0,\"ticks\":\"\"}},\"type\":\"scatterternary\"}],\"surface\":[{\"colorbar\":{\"outlinewidth\":0,\"ticks\":\"\"},\"colorscale\":[[0.0,\"#0d0887\"],[0.1111111111111111,\"#46039f\"],[0.2222222222222222,\"#7201a8\"],[0.3333333333333333,\"#9c179e\"],[0.4444444444444444,\"#bd3786\"],[0.5555555555555556,\"#d8576b\"],[0.6666666666666666,\"#ed7953\"],[0.7777777777777778,\"#fb9f3a\"],[0.8888888888888888,\"#fdca26\"],[1.0,\"#f0f921\"]],\"type\":\"surface\"}],\"table\":[{\"cells\":{\"fill\":{\"color\":\"#EBF0F8\"},\"line\":{\"color\":\"white\"}},\"header\":{\"fill\":{\"color\":\"#C8D4E3\"},\"line\":{\"color\":\"white\"}},\"type\":\"table\"}]},\"layout\":{\"annotationdefaults\":{\"arrowcolor\":\"#2a3f5f\",\"arrowhead\":0,\"arrowwidth\":1},\"autotypenumbers\":\"strict\",\"coloraxis\":{\"colorbar\":{\"outlinewidth\":0,\"ticks\":\"\"}},\"colorscale\":{\"diverging\":[[0,\"#8e0152\"],[0.1,\"#c51b7d\"],[0.2,\"#de77ae\"],[0.3,\"#f1b6da\"],[0.4,\"#fde0ef\"],[0.5,\"#f7f7f7\"],[0.6,\"#e6f5d0\"],[0.7,\"#b8e186\"],[0.8,\"#7fbc41\"],[0.9,\"#4d9221\"],[1,\"#276419\"]],\"sequential\":[[0.0,\"#0d0887\"],[0.1111111111111111,\"#46039f\"],[0.2222222222222222,\"#7201a8\"],[0.3333333333333333,\"#9c179e\"],[0.4444444444444444,\"#bd3786\"],[0.5555555555555556,\"#d8576b\"],[0.6666666666666666,\"#ed7953\"],[0.7777777777777778,\"#fb9f3a\"],[0.8888888888888888,\"#fdca26\"],[1.0,\"#f0f921\"]],\"sequentialminus\":[[0.0,\"#0d0887\"],[0.1111111111111111,\"#46039f\"],[0.2222222222222222,\"#7201a8\"],[0.3333333333333333,\"#9c179e\"],[0.4444444444444444,\"#bd3786\"],[0.5555555555555556,\"#d8576b\"],[0.6666666666666666,\"#ed7953\"],[0.7777777777777778,\"#fb9f3a\"],[0.8888888888888888,\"#fdca26\"],[1.0,\"#f0f921\"]]},\"colorway\":[\"#636efa\",\"#EF553B\",\"#00cc96\",\"#ab63fa\",\"#FFA15A\",\"#19d3f3\",\"#FF6692\",\"#B6E880\",\"#FF97FF\",\"#FECB52\"],\"font\":{\"color\":\"#2a3f5f\"},\"geo\":{\"bgcolor\":\"white\",\"lakecolor\":\"white\",\"landcolor\":\"#E5ECF6\",\"showlakes\":true,\"showland\":true,\"subunitcolor\":\"white\"},\"hoverlabel\":{\"align\":\"left\"},\"hovermode\":\"closest\",\"mapbox\":{\"style\":\"light\"},\"paper_bgcolor\":\"white\",\"plot_bgcolor\":\"#E5ECF6\",\"polar\":{\"angularaxis\":{\"gridcolor\":\"white\",\"linecolor\":\"white\",\"ticks\":\"\"},\"bgcolor\":\"#E5ECF6\",\"radialaxis\":{\"gridcolor\":\"white\",\"linecolor\":\"white\",\"ticks\":\"\"}},\"scene\":{\"xaxis\":{\"backgroundcolor\":\"#E5ECF6\",\"gridcolor\":\"white\",\"gridwidth\":2,\"linecolor\":\"white\",\"showbackground\":true,\"ticks\":\"\",\"zerolinecolor\":\"white\"},\"yaxis\":{\"backgroundcolor\":\"#E5ECF6\",\"gridcolor\":\"white\",\"gridwidth\":2,\"linecolor\":\"white\",\"showbackground\":true,\"ticks\":\"\",\"zerolinecolor\":\"white\"},\"zaxis\":{\"backgroundcolor\":\"#E5ECF6\",\"gridcolor\":\"white\",\"gridwidth\":2,\"linecolor\":\"white\",\"showbackground\":true,\"ticks\":\"\",\"zerolinecolor\":\"white\"}},\"shapedefaults\":{\"line\":{\"color\":\"#2a3f5f\"}},\"ternary\":{\"aaxis\":{\"gridcolor\":\"white\",\"linecolor\":\"white\",\"ticks\":\"\"},\"baxis\":{\"gridcolor\":\"white\",\"linecolor\":\"white\",\"ticks\":\"\"},\"bgcolor\":\"#E5ECF6\",\"caxis\":{\"gridcolor\":\"white\",\"linecolor\":\"white\",\"ticks\":\"\"}},\"title\":{\"x\":0.05},\"xaxis\":{\"automargin\":true,\"gridcolor\":\"white\",\"linecolor\":\"white\",\"ticks\":\"\",\"title\":{\"standoff\":15},\"zerolinecolor\":\"white\",\"zerolinewidth\":2},\"yaxis\":{\"automargin\":true,\"gridcolor\":\"white\",\"linecolor\":\"white\",\"ticks\":\"\",\"title\":{\"standoff\":15},\"zerolinecolor\":\"white\",\"zerolinewidth\":2}}},\"xaxis\":{\"anchor\":\"y\",\"domain\":[0.0,1.0],\"title\":{\"text\":\"0\"}},\"yaxis\":{\"anchor\":\"x\",\"domain\":[0.0,1.0],\"title\":{\"text\":\"1\"}},\"legend\":{\"title\":{\"text\":\"class\"},\"tracegroupgap\":0},\"margin\":{\"t\":60}},                        {\"responsive\": true}                    ).then(function(){\n                            \nvar gd = document.getElementById('d73eb4c9-a0f6-4250-95ab-b38a4b37f5e4');\nvar x = new MutationObserver(function (mutations, observer) {{\n        var display = window.getComputedStyle(gd).display;\n        if (!display || display === 'none') {{\n            console.log([gd, 'removed!']);\n            Plotly.purge(gd);\n            observer.disconnect();\n        }}\n}});\n\n// Listen for the removal of the full notebook cells\nvar notebookContainer = gd.closest('#notebook-container');\nif (notebookContainer) {{\n    x.observe(notebookContainer, {childList: true});\n}}\n\n// Listen for the clearing of the current output cell\nvar outputEl = gd.closest('.output');\nif (outputEl) {{\n    x.observe(outputEl, {childList: true});\n}}\n\n                        })                };                });            </script>        </div>"
     },
     "metadata": {},
     "output_type": "display_data"
    }
   ],
   "source": [
    "umap_2d = UMAP(random_state=0)\n",
    "umap_2d.fit(df)\n",
    "\n",
    "projections = umap_2d.transform(df)\n",
    "\n",
    "fig = px.scatter(\n",
    "    projections, x=0, y=1,\n",
    "    color=df['Classes'], labels={'color': 'class'}\n",
    ")\n",
    "fig.show()"
   ],
   "metadata": {
    "collapsed": false,
    "pycharm": {
     "name": "#%%\n"
    }
   }
  },
  {
   "cell_type": "code",
   "execution_count": 52,
   "outputs": [
    {
     "data": {
      "text/plain": "<Figure size 720x360 with 1 Axes>",
      "image/png": "[encoded data removed]"
     },
     "metadata": {},
     "output_type": "display_data"
    }
   ],
   "source": [
    "plt.figure(figsize= (10, 5))\n",
    "plt.title('Classes')\n",
    "df['Classes'].value_counts().plot(kind='bar')\n",
    "plt.show()"
   ],
   "metadata": {
    "collapsed": false,
    "pycharm": {
     "name": "#%%\n"
    }
   }
  },
  {
   "cell_type": "code",
   "execution_count": 53,
   "outputs": [
    {
     "data": {
      "text/plain": "<Figure size 720x360 with 2 Axes>",
      "image/png": "[encoded data removed]"
     },
     "metadata": {},
     "output_type": "display_data"
    }
   ],
   "source": [
    "correlation = df.corr()\n",
    "plt.figure(figsize= (10,5))\n",
    "plt.title('Correlation between features')\n",
    "sns.heatmap(correlation)\n",
    "plt.show()"
   ],
   "metadata": {
    "collapsed": false,
    "pycharm": {
     "name": "#%%\n"
    }
   }
  },
  {
   "cell_type": "code",
   "execution_count": 54,
   "outputs": [
    {
     "name": "stdout",
     "output_type": "stream",
     "text": [
      "C = \n",
      " [[ 0.09338628 -0.11086559 -0.02943783]\n",
      " [-0.11086559  0.18770817  0.0336127 ]\n",
      " [-0.02943783  0.0336127   0.12511719]]\n",
      "l = \n",
      " [0.27418905 0.11232653 0.01969604]\n",
      "V = \n",
      " [[ 0.53435576  0.10510519 -0.83869948]\n",
      " [-0.79577968 -0.27194755 -0.54109078]\n",
      " [-0.28495372  0.95655498 -0.06167616]]\n",
      "Y = \n",
      " [[-0.5382821   0.04170504 -0.17101639]\n",
      " [ 0.37801268 -0.26959854  0.10654358]\n",
      " [-0.60281427 -0.09375913  0.14821045]\n",
      " [ 0.31232627  0.5572872   0.03786103]\n",
      " [ 0.45075742 -0.23563458 -0.12159868]]\n"
     ]
    }
   ],
   "source": [
    "np.random.seed(42)\n",
    "\n",
    "\n",
    "def flip_signs(A, B):\n",
    "\n",
    "    signs = np.sign(A) * np.sign(B)\n",
    "    return A, B * signs\n",
    "\n",
    "\n",
    "# Let the data matrix X be of n x p size,\n",
    "# where n is the number of samples and p is the number of variables\n",
    "n, p = 5, 3\n",
    "X = np.random.rand(n, p)\n",
    "# Let us assume that it is centered\n",
    "X -= np.mean(X, axis=0)\n",
    "\n",
    "# the p x p covariance matrix\n",
    "C = np.cov(X, rowvar=False)\n",
    "print (\"C = \\n\", C)\n",
    "# C is a symmetric matrix and so it can be diagonalized:\n",
    "l, principal_axes = la.eig(C)\n",
    "# sort results wrt. eigenvalues\n",
    "idx = l.argsort()[::-1]\n",
    "l, principal_axes = l[idx], principal_axes[:, idx]\n",
    "# the eigenvalues in decreasing order\n",
    "print(\"l = \\n\", l)\n",
    "# a matrix of eigenvectors (each column is an eigenvector)\n",
    "print(\"V = \\n\", principal_axes)\n",
    "# projections of X on the principal axes are called principal components\n",
    "principal_components = X.dot(principal_axes)\n",
    "print(\"Y = \\n\", principal_components)\n",
    "\n",
    "# we now perform singular value decomposition of X\n",
    "# \"economy size\" (or \"thin\") SVD\n",
    "U, s, Vt = la.svd(X, full_matrices=False)\n",
    "V = Vt.T\n",
    "S = np.diag(s)\n",
    "\n",
    "# 1) then columns of V are principal directions/axes.\n",
    "assert np.allclose(*flip_signs(V, principal_axes))\n",
    "\n",
    "# 2) columns of US are principal components\n",
    "assert np.allclose(*flip_signs(U.dot(S), principal_components))\n",
    "\n",
    "# 3) singular values are related to the eigenvalues of covariance matrix\n",
    "assert np.allclose((s ** 2) / (n - 1), l)\n",
    "\n",
    "# 8) dimensionality reduction\n",
    "k = 2\n",
    "PC_k = principal_components[:, 0:k]\n",
    "US_k = U[:, 0:k].dot(S[0:k, 0:k])\n",
    "assert np.allclose(*flip_signs(PC_k, US_k))\n",
    "\n",
    "# 10) we used \"economy size\" (or \"thin\") SVD\n",
    "assert U.shape == (n, p)\n",
    "assert S.shape == (p, p)\n",
    "assert V.shape == (p, p)\n"
   ],
   "metadata": {
    "collapsed": false,
    "pycharm": {
     "name": "#%%\n"
    }
   }
  },
  {
   "cell_type": "code",
   "execution_count": 55,
   "outputs": [
    {
     "data": {
      "text/plain": "array([[ 6.07666022e+00, -2.09416630e+00, -5.83088226e-01, ...,\n        -1.06182164e-01,  1.48547492e-01,  1.05770908e-02],\n       [ 1.00983948e+01, -1.48253601e+00,  4.36643702e-01, ...,\n        -6.39787924e-02, -8.09938536e-03,  1.42351300e-01],\n       [ 6.03346800e+00, -1.03064885e+00, -2.01283150e-02, ...,\n        -1.94194938e-02, -6.41159126e-02, -1.35495976e-02],\n       ...,\n       [-4.11522244e+00, -1.66734894e+00, -2.16306600e+00, ...,\n        -1.60753202e-01, -1.27221750e-01,  2.14166989e-02],\n       [-4.01745205e+00, -2.41430251e+00, -2.15380109e+00, ...,\n         3.05332008e-02,  3.03484290e-02,  8.64317629e-02],\n       [ 1.82746277e+00, -1.81858582e+00, -1.48038105e+00, ...,\n        -2.86350711e-02,  1.18894919e-01, -1.31288337e-01]])"
     },
     "execution_count": 55,
     "metadata": {},
     "output_type": "execute_result"
    }
   ],
   "source": [
    "#PCA\n",
    "df_pca = df.copy()\n",
    "pca = PCA(n_components=50)\n",
    "PC = pca.fit_transform(df_pca)\n",
    "PC"
   ],
   "metadata": {
    "collapsed": false,
    "pycharm": {
     "name": "#%%\n"
    }
   }
  },
  {
   "cell_type": "code",
   "execution_count": 56,
   "outputs": [
    {
     "name": "stdout",
     "output_type": "stream",
     "text": [
      "Features before PCA:  206\n",
      "Features after PCA:  50\n",
      "Sum of Variance 0.9977534323240367\n"
     ]
    }
   ],
   "source": [
    "print('Features before PCA: ', df_pca.shape[1])\n",
    "print('Features after PCA: ', PC.shape[1])\n",
    "print('Sum of Variance', pca.explained_variance_ratio_.sum())"
   ],
   "metadata": {
    "collapsed": false,
    "pycharm": {
     "name": "#%%\n"
    }
   }
  },
  {
   "cell_type": "code",
   "execution_count": 57,
   "outputs": [
    {
     "data": {
      "text/plain": "array([[ 2.46131660e-01, -3.97952374e-01,  1.35529392e-02, ...,\n         0.00000000e+00,  0.00000000e+00, -9.36235249e-02],\n       [-3.97952374e-01,  1.31503115e+01, -2.21520151e-01, ...,\n         0.00000000e+00,  0.00000000e+00, -6.46792779e-01],\n       [ 1.35529392e-02, -2.21520151e-01,  7.04693634e-02, ...,\n         0.00000000e+00,  0.00000000e+00,  1.26265408e-01],\n       ...,\n       [ 0.00000000e+00,  0.00000000e+00,  0.00000000e+00, ...,\n         4.01561181e-03,  0.00000000e+00,  0.00000000e+00],\n       [ 0.00000000e+00,  0.00000000e+00,  0.00000000e+00, ...,\n         0.00000000e+00,  4.01561181e-03,  0.00000000e+00],\n       [-9.36235249e-02, -6.46792779e-01,  1.26265408e-01, ...,\n         0.00000000e+00,  0.00000000e+00,  2.88947945e+00]])"
     },
     "execution_count": 57,
     "metadata": {},
     "output_type": "execute_result"
    }
   ],
   "source": [
    "pca.get_covariance()"
   ],
   "metadata": {
    "collapsed": false,
    "pycharm": {
     "name": "#%%\n"
    }
   }
  },
  {
   "cell_type": "code",
   "execution_count": 58,
   "outputs": [
    {
     "data": {
      "text/plain": "array([0.38631219, 0.16508091, 0.08786341, 0.07000343, 0.03344278,\n       0.02610208, 0.025546  , 0.02023758, 0.0179229 , 0.01541195,\n       0.01423061, 0.01313145, 0.01098159, 0.00934976, 0.00868466,\n       0.00834496, 0.00686443, 0.00661122, 0.00598969, 0.00597938,\n       0.00548223, 0.00443756, 0.00432288, 0.00405243, 0.00375192,\n       0.00350874, 0.00296479, 0.00290501, 0.00270109, 0.00258195,\n       0.00226606, 0.00224356, 0.00190632, 0.00183536, 0.00162495,\n       0.00152894, 0.00140161, 0.0012861 , 0.0011459 , 0.00106003,\n       0.00101869, 0.00091979, 0.00083444, 0.00075194, 0.00061497,\n       0.00057475, 0.00052915, 0.00052231, 0.00046778, 0.00042118])"
     },
     "execution_count": 58,
     "metadata": {},
     "output_type": "execute_result"
    }
   ],
   "source": [
    "explained_variance = pca.explained_variance_ratio_\n",
    "explained_variance"
   ],
   "metadata": {
    "collapsed": false,
    "pycharm": {
     "name": "#%%\n"
    }
   }
  },
  {
   "cell_type": "code",
   "execution_count": 59,
   "outputs": [
    {
     "data": {
      "text/plain": "<function matplotlib.pyplot.tight_layout(*, pad=1.08, h_pad=None, w_pad=None, rect=None)>"
     },
     "execution_count": 59,
     "metadata": {},
     "output_type": "execute_result"
    },
    {
     "data": {
      "text/plain": "<Figure size 720x360 with 1 Axes>",
      "image/png": "[encoded data removed]"
     },
     "metadata": {},
     "output_type": "display_data"
    }
   ],
   "source": [
    "plt.figure(figsize = (10,5))\n",
    "plt.bar(range(50), explained_variance, alpha=0.5,\n",
    "        label='individual explained variance')\n",
    "plt.ylabel('Explained variance ratio')\n",
    "plt.xlabel('Principal components')\n",
    "plt.legend(loc='best')\n",
    "plt.tight_layout"
   ],
   "metadata": {
    "collapsed": false,
    "pycharm": {
     "name": "#%%\n"
    }
   }
  },
  {
   "cell_type": "code",
   "execution_count": 60,
   "outputs": [
    {
     "data": {
      "text/plain": "array([[ 1.93113588e+01, -4.51268865e-01, -2.74915018e+00, ...,\n         8.90968742e-02,  9.39022465e-02,  9.23550649e-02],\n       [ 2.30288934e+01,  9.93368680e-01, -3.28972418e+00, ...,\n         1.23769952e-01, -4.46719234e-03,  8.90660071e-02],\n       [ 1.93537932e+01,  3.70027247e-01, -1.88553497e+00, ...,\n        -1.40446880e-01,  9.41328941e-02, -8.85963915e-02],\n       ...,\n       [ 1.01298366e+01, -2.59149742e+00,  2.30757461e-01, ...,\n         1.36176958e-01,  9.41321467e-02, -9.39643489e-02],\n       [ 1.00475120e+01, -3.10275453e+00, -4.79408934e-01, ...,\n        -2.38746068e-02, -2.32965294e-02,  6.68204355e-02],\n       [ 1.55460081e+01, -1.25251141e+00, -1.54816562e+00, ...,\n         9.52800714e-03,  4.85089472e-02,  2.31360491e-02]])"
     },
     "execution_count": 60,
     "metadata": {},
     "output_type": "execute_result"
    }
   ],
   "source": [
    "df_truncatedSVD = df.copy()\n",
    "truncatedSVD = TruncatedSVD(n_components=50, random_state=40)\n",
    "sparse_truncatedSVD = truncatedSVD.fit_transform(df_truncatedSVD)\n",
    "sparse_truncatedSVD"
   ],
   "metadata": {
    "collapsed": false,
    "pycharm": {
     "name": "#%%\n"
    }
   }
  },
  {
   "cell_type": "code",
   "execution_count": 61,
   "outputs": [
    {
     "name": "stdout",
     "output_type": "stream",
     "text": [
      "Features before TSVD:  206\n",
      "Features after TSVD:  50\n",
      "Sum of Variance 0.9973680531057599\n"
     ]
    }
   ],
   "source": [
    "print('Features before TSVD: ', df_truncatedSVD.shape[1])\n",
    "print('Features after TSVD: ', sparse_truncatedSVD.shape[1])\n",
    "print('Sum of Variance', truncatedSVD.explained_variance_ratio_.sum())"
   ],
   "metadata": {
    "collapsed": false,
    "pycharm": {
     "name": "#%%\n"
    }
   }
  },
  {
   "cell_type": "code",
   "execution_count": 62,
   "outputs": [
    {
     "name": "stdout",
     "output_type": "stream",
     "text": [
      "(70,)\n"
     ]
    },
    {
     "data": {
      "text/plain": "array([6, 6, 6, 6, 6, 2, 6, 2, 4, 7, 4, 7, 4, 7, 4, 6, 7, 6, 2, 4, 7, 7,\n       2, 6, 6, 6, 7, 6, 1, 6, 7, 7, 6, 6, 6, 6, 7, 4, 6, 5, 5, 2, 7, 7,\n       7, 4, 1, 2, 6, 7, 7, 4, 6, 6, 6, 2, 5, 6, 6, 6, 6, 4, 4, 7, 4, 4,\n       3, 6, 6, 6])"
     },
     "execution_count": 62,
     "metadata": {},
     "output_type": "execute_result"
    }
   ],
   "source": [
    "pca_X = PC\n",
    "pca_y = df.loc[:, 'Classes'].astype(int)\n",
    "pca_y = pca_y.values\n",
    "print(pca_y.shape)\n",
    "\n",
    "pca_y = pca_y.flatten()\n",
    "pca_y"
   ],
   "metadata": {
    "collapsed": false,
    "pycharm": {
     "name": "#%%\n"
    }
   }
  },
  {
   "cell_type": "code",
   "execution_count": 63,
   "outputs": [
    {
     "data": {
      "text/plain": "               ARI  Completeness  Silhouette\nsingle    0.219901      0.628513   -0.041931\ncomplete  0.211473      0.437577    0.136175\naverage   0.454680      0.552395    0.232927\nweighted  0.212566      0.455452    0.141088\ncentroid -0.041235      0.336660    0.111448\nmedian    0.049014      0.438335    0.075128\nward      0.464396      0.571747    0.230193",
      "text/html": "<div>\n<style scoped>\n    .dataframe tbody tr th:only-of-type {\n        vertical-align: middle;\n    }\n\n    .dataframe tbody tr th {\n        vertical-align: top;\n    }\n\n    .dataframe thead th {\n        text-align: right;\n    }\n</style>\n<table border=\"1\" class=\"dataframe\">\n  <thead>\n    <tr style=\"text-align: right;\">\n      <th></th>\n      <th>ARI</th>\n      <th>Completeness</th>\n      <th>Silhouette</th>\n    </tr>\n  </thead>\n  <tbody>\n    <tr>\n      <th>single</th>\n      <td>0.219901</td>\n      <td>0.628513</td>\n      <td>-0.041931</td>\n    </tr>\n    <tr>\n      <th>complete</th>\n      <td>0.211473</td>\n      <td>0.437577</td>\n      <td>0.136175</td>\n    </tr>\n    <tr>\n      <th>average</th>\n      <td>0.454680</td>\n      <td>0.552395</td>\n      <td>0.232927</td>\n    </tr>\n    <tr>\n      <th>weighted</th>\n      <td>0.212566</td>\n      <td>0.455452</td>\n      <td>0.141088</td>\n    </tr>\n    <tr>\n      <th>centroid</th>\n      <td>-0.041235</td>\n      <td>0.336660</td>\n      <td>0.111448</td>\n    </tr>\n    <tr>\n      <th>median</th>\n      <td>0.049014</td>\n      <td>0.438335</td>\n      <td>0.075128</td>\n    </tr>\n    <tr>\n      <th>ward</th>\n      <td>0.464396</td>\n      <td>0.571747</td>\n      <td>0.230193</td>\n    </tr>\n  </tbody>\n</table>\n</div>"
     },
     "execution_count": 63,
     "metadata": {},
     "output_type": "execute_result"
    }
   ],
   "source": [
    "# find best linkage type and distance metric for the clustering algorithm.\n",
    "# using manhattan and euclidean\n",
    "DISTANCES = ['cityblock', 'euclidean']\n",
    "pca_z = []\n",
    "# find pairwise distances between observations in n-dimensional space.\n",
    "for distance in DISTANCES:\n",
    "    pca_z.append(pdist(pca_X, distance))\n",
    "\n",
    "# include all linkage methods provided by SciPy\n",
    "linkage = [single, complete, average, weighted, centroid, median, ward]\n",
    "pca_data = []\n",
    "for link in linkage:\n",
    "    # maxclust finds a minimum threshold r so that the\n",
    "    # cophenetic distance (measure of how similar those two objects have\n",
    "    # to be in order to be grouped into the same cluster) between any two original observations\n",
    "    # in the same flat cluster is no more than r and no more than t\n",
    "    # flat clusters are formed.\n",
    "    pca_clusters = (fcluster(link(pca_z[1]), t=7, criterion='maxclust'))\n",
    "    pca_data.append(({\n",
    "        'ARI':metrics.adjusted_rand_score(pca_y, pca_clusters),\n",
    "        'Completeness':metrics.completeness_score(pca_y, pca_clusters),\n",
    "        'Silhouette':metrics.silhouette_score(pca_X, pca_clusters)\n",
    "    }))\n",
    "pca_results = pd.DataFrame(data=pca_data, columns= [\"ARI\", \"Completeness\", 'Silhouette'],\n",
    "                           index=['single', 'complete', 'average', 'weighted', 'centroid', 'median', 'ward']\n",
    "                           )\n",
    "pca_results\n",
    "\n",
    "\n",
    "\n",
    "\n"
   ],
   "metadata": {
    "collapsed": false,
    "pycharm": {
     "name": "#%%\n"
    }
   }
  },
  {
   "cell_type": "code",
   "execution_count": 64,
   "outputs": [
    {
     "name": "stdout",
     "output_type": "stream",
     "text": [
      "(70,)\n",
      "[6 6 6 6 6 2 6 2 4 7 4 7 4 7 4 6 7 6 2 4 7 7 2 6 6 6 7 6 1 6 7 7 6 6 6 6 7\n",
      " 4 6 5 5 2 7 7 7 4 1 2 6 7 7 4 6 6 6 2 5 6 6 6 6 4 4 7 4 4 3 6 6 6]\n"
     ]
    }
   ],
   "source": [
    "tsvd_X = sparse_truncatedSVD\n",
    "tsvd_y = df.loc[:, 'Classes'].astype(int)\n",
    "tsvd_y = tsvd_y.values\n",
    "print(tsvd_y.shape)\n",
    "\n",
    "tsvd_y = tsvd_y.flatten()\n",
    "print(tsvd_y)"
   ],
   "metadata": {
    "collapsed": false,
    "pycharm": {
     "name": "#%%\n"
    }
   }
  },
  {
   "cell_type": "code",
   "execution_count": 65,
   "outputs": [
    {
     "data": {
      "text/plain": "               ARI  Completeness  Silhouette\nsingle    0.219901      0.628513   -0.042088\ncomplete  0.211473      0.437577    0.136276\naverage   0.454680      0.552395    0.233113\nweighted  0.212566      0.455452    0.141142\ncentroid -0.041235      0.336660    0.111320\nmedian    0.049014      0.438335    0.075075\nward      0.464396      0.571747    0.230340",
      "text/html": "<div>\n<style scoped>\n    .dataframe tbody tr th:only-of-type {\n        vertical-align: middle;\n    }\n\n    .dataframe tbody tr th {\n        vertical-align: top;\n    }\n\n    .dataframe thead th {\n        text-align: right;\n    }\n</style>\n<table border=\"1\" class=\"dataframe\">\n  <thead>\n    <tr style=\"text-align: right;\">\n      <th></th>\n      <th>ARI</th>\n      <th>Completeness</th>\n      <th>Silhouette</th>\n    </tr>\n  </thead>\n  <tbody>\n    <tr>\n      <th>single</th>\n      <td>0.219901</td>\n      <td>0.628513</td>\n      <td>-0.042088</td>\n    </tr>\n    <tr>\n      <th>complete</th>\n      <td>0.211473</td>\n      <td>0.437577</td>\n      <td>0.136276</td>\n    </tr>\n    <tr>\n      <th>average</th>\n      <td>0.454680</td>\n      <td>0.552395</td>\n      <td>0.233113</td>\n    </tr>\n    <tr>\n      <th>weighted</th>\n      <td>0.212566</td>\n      <td>0.455452</td>\n      <td>0.141142</td>\n    </tr>\n    <tr>\n      <th>centroid</th>\n      <td>-0.041235</td>\n      <td>0.336660</td>\n      <td>0.111320</td>\n    </tr>\n    <tr>\n      <th>median</th>\n      <td>0.049014</td>\n      <td>0.438335</td>\n      <td>0.075075</td>\n    </tr>\n    <tr>\n      <th>ward</th>\n      <td>0.464396</td>\n      <td>0.571747</td>\n      <td>0.230340</td>\n    </tr>\n  </tbody>\n</table>\n</div>"
     },
     "execution_count": 65,
     "metadata": {},
     "output_type": "execute_result"
    }
   ],
   "source": [
    "# find best linkage type and distance metric for the clustering algorithm.\n",
    "# using manhattan and euclidean\n",
    "DISTANCES = ['cityblock', 'euclidean']\n",
    "tsvd_z = []\n",
    "# find pairwise distances between observations in n-dimensional space.\n",
    "for distance in DISTANCES:\n",
    "    tsvd_z.append(pdist(tsvd_X, distance))\n",
    "\n",
    "# include all linkage methods provided by SciPy\n",
    "linkage = [single, complete, average, weighted, centroid, median, ward]\n",
    "tsvd_data = []\n",
    "for link in linkage:\n",
    "    # maxclust finds a minimum threshold r so that the\n",
    "    # cophenetic distance (measure of how similar those two objects have\n",
    "    # to be in order to be grouped into the same cluster) between any two original observations\n",
    "    # in the same flat cluster is no more than r and no more than t\n",
    "    # flat clusters are formed.\n",
    "    tsvd_clusters = (fcluster(link(tsvd_z[1]), t=7, criterion='maxclust'))\n",
    "    tsvd_data.append(({\n",
    "        'ARI':metrics.adjusted_rand_score(tsvd_y, tsvd_clusters),\n",
    "        'Completeness':metrics.completeness_score(tsvd_y, tsvd_clusters),\n",
    "        'Silhouette':metrics.silhouette_score(tsvd_X, tsvd_clusters)\n",
    "    }))\n",
    "tsvd_results = pd.DataFrame(data=tsvd_data, columns= [\"ARI\", \"Completeness\", \"Silhouette\"],\n",
    "                           index=['single', 'complete', 'average', 'weighted', 'centroid', 'median', 'ward']\n",
    "                           )\n",
    "tsvd_results\n"
   ],
   "metadata": {
    "collapsed": false,
    "pycharm": {
     "name": "#%%\n"
    }
   }
  },
  {
   "cell_type": "code",
   "execution_count": 66,
   "outputs": [
    {
     "name": "stdout",
     "output_type": "stream",
     "text": [
      "               ARI  Completeness  Silhouette\n",
      "single    0.219901      0.628513   -0.041931\n",
      "complete  0.211473      0.437577    0.136175\n",
      "average   0.454680      0.552395    0.232927\n",
      "weighted  0.212566      0.455452    0.141088\n",
      "centroid -0.041235      0.336660    0.111448\n",
      "median    0.049014      0.438335    0.075128\n",
      "ward      0.464396      0.571747    0.230193\n",
      "               ARI  Completeness  Silhouette\n",
      "single    0.219901      0.628513   -0.042088\n",
      "complete  0.211473      0.437577    0.136276\n",
      "average   0.454680      0.552395    0.233113\n",
      "weighted  0.212566      0.455452    0.141142\n",
      "centroid -0.041235      0.336660    0.111320\n",
      "median    0.049014      0.438335    0.075075\n",
      "ward      0.464396      0.571747    0.230340\n"
     ]
    }
   ],
   "source": [
    "print(pca_results)\n",
    "\n",
    "print(tsvd_results)"
   ],
   "metadata": {
    "collapsed": false,
    "pycharm": {
     "name": "#%%\n"
    }
   }
  },
  {
   "cell_type": "code",
   "execution_count": 67,
   "outputs": [
    {
     "data": {
      "text/plain": "<Figure size 1080x1080 with 1 Axes>",
      "image/png": "[encoded data removed]"
     },
     "metadata": {},
     "output_type": "display_data"
    }
   ],
   "source": [
    "plt.figure(figsize=(15,15))\n",
    "plt.title(\"SCADI Dendrogram using PCA\")\n",
    "pca_dendrogram = scipy.cluster.hierarchy.dendrogram(scipy.cluster.hierarchy.linkage(PC, method='ward'),orientation='top')\n",
    "plt.tick_params(axis='x', labelsize=10, rotation='auto')\n"
   ],
   "metadata": {
    "collapsed": false,
    "pycharm": {
     "name": "#%%\n"
    }
   }
  },
  {
   "cell_type": "code",
   "execution_count": 68,
   "outputs": [
    {
     "data": {
      "text/plain": "array([1, 1, 1, 1, 1, 1, 1, 1, 0, 3, 0, 3, 0, 3, 0, 2, 0, 2, 0, 0, 3, 3,\n       0, 2, 2, 0, 3, 2, 0, 2, 3, 3, 2, 2, 2, 2, 3, 0, 2, 2, 0, 0, 0, 3,\n       0, 0, 0, 0, 2, 0, 0, 0, 2, 2, 1, 1, 0, 1, 1, 2, 2, 0, 0, 1, 1, 0,\n       0, 2, 2, 2])"
     },
     "execution_count": 68,
     "metadata": {},
     "output_type": "execute_result"
    }
   ],
   "source": [
    "pca_cluster = AgglomerativeClustering(n_clusters=4, affinity='euclidean', linkage='ward')\n",
    "pca_cluster_pred = pca_cluster.fit_predict(PC)\n",
    "pca_cluster_pred"
   ],
   "metadata": {
    "collapsed": false,
    "pycharm": {
     "name": "#%%\n"
    }
   }
  },
  {
   "cell_type": "code",
   "execution_count": 69,
   "outputs": [
    {
     "data": {
      "text/plain": "<Figure size 1080x1080 with 1 Axes>",
      "image/png": "[encoded data removed]"
     },
     "metadata": {},
     "output_type": "display_data"
    }
   ],
   "source": [
    "plt.figure(figsize=(15,15))\n",
    "plt.title(\"SCADI Dendrogram using TSVD\")\n",
    "pca_dendrogram = scipy.cluster.hierarchy.dendrogram(scipy.cluster.hierarchy.linkage(sparse_truncatedSVD, method='ward'),orientation='top')\n",
    "plt.tick_params(axis='x', labelsize=10, rotation='auto')\n",
    "plt.savefig('dend_tsvd.png')\n"
   ],
   "metadata": {
    "collapsed": false,
    "pycharm": {
     "name": "#%%\n"
    }
   }
  },
  {
   "cell_type": "code",
   "execution_count": 70,
   "outputs": [
    {
     "data": {
      "text/plain": "array([1, 1, 1, 1, 1, 1, 1, 1, 0, 3, 0, 3, 0, 3, 0, 2, 0, 2, 0, 0, 3, 3,\n       0, 2, 2, 0, 3, 2, 0, 2, 3, 3, 2, 2, 2, 2, 3, 0, 2, 2, 0, 0, 0, 3,\n       0, 0, 0, 0, 2, 0, 0, 0, 2, 2, 1, 1, 0, 1, 1, 2, 2, 0, 0, 1, 1, 0,\n       0, 2, 2, 2])"
     },
     "execution_count": 70,
     "metadata": {},
     "output_type": "execute_result"
    }
   ],
   "source": [
    "tsvd_cluster = AgglomerativeClustering(n_clusters=4, affinity='euclidean', linkage='ward')\n",
    "tsvd_cluster_pred = tsvd_cluster.fit_predict(sparse_truncatedSVD)\n",
    "tsvd_cluster_pred"
   ],
   "metadata": {
    "collapsed": false,
    "pycharm": {
     "name": "#%%\n"
    }
   }
  },
  {
   "cell_type": "code",
   "execution_count": 71,
   "outputs": [],
   "source": [
    "df_pca['Cluster'] = pca_cluster_pred\n",
    "df_truncatedSVD['Cluster'] = tsvd_cluster_pred\n"
   ],
   "metadata": {
    "collapsed": false,
    "pycharm": {
     "name": "#%%\n"
    }
   }
  },
  {
   "cell_type": "code",
   "execution_count": 72,
   "outputs": [
    {
     "data": {
      "text/plain": "  Gender  Age  d 5100-0  d 5100-1  d 5100-2  d 5100-3  d 5100-4  d 5100-8  \\\n0      0   18         0         0         0         0         1         0   \n1      0   22         0         0         0         0         1         0   \n2      0   18         0         0         0         1         0         0   \n3      1   18         0         0         0         0         1         0   \n4      0   19         0         0         0         0         1         0   \n\n   d 5100-9  d 5101-0  ...  d 57022-9  d 571-0  d 571-1  d 571-2  d 571-3  \\\n0         0         0  ...          0        0        0        0        0   \n1         0         0  ...          0        0        0        0        1   \n2         0         0  ...          0        0        0        0        1   \n3         0         0  ...          0        0        0        1        0   \n4         0         0  ...          0        0        0        1        0   \n\n   d 571-4  d 571-8  d 571-9  Classes  Cluster  \n0        1        0        0        6        1  \n1        0        0        0        6        1  \n2        0        0        0        6        1  \n3        0        0        0        6        1  \n4        0        0        0        6        1  \n\n[5 rows x 207 columns]",
      "text/html": "<div>\n<style scoped>\n    .dataframe tbody tr th:only-of-type {\n        vertical-align: middle;\n    }\n\n    .dataframe tbody tr th {\n        vertical-align: top;\n    }\n\n    .dataframe thead th {\n        text-align: right;\n    }\n</style>\n<table border=\"1\" class=\"dataframe\">\n  <thead>\n    <tr style=\"text-align: right;\">\n      <th></th>\n      <th>Gender</th>\n      <th>Age</th>\n      <th>d 5100-0</th>\n      <th>d 5100-1</th>\n      <th>d 5100-2</th>\n      <th>d 5100-3</th>\n      <th>d 5100-4</th>\n      <th>d 5100-8</th>\n      <th>d 5100-9</th>\n      <th>d 5101-0</th>\n      <th>...</th>\n      <th>d 57022-9</th>\n      <th>d 571-0</th>\n      <th>d 571-1</th>\n      <th>d 571-2</th>\n      <th>d 571-3</th>\n      <th>d 571-4</th>\n      <th>d 571-8</th>\n      <th>d 571-9</th>\n      <th>Classes</th>\n      <th>Cluster</th>\n    </tr>\n  </thead>\n  <tbody>\n    <tr>\n      <th>0</th>\n      <td>0</td>\n      <td>18</td>\n      <td>0</td>\n      <td>0</td>\n      <td>0</td>\n      <td>0</td>\n      <td>1</td>\n      <td>0</td>\n      <td>0</td>\n      <td>0</td>\n      <td>...</td>\n      <td>0</td>\n      <td>0</td>\n      <td>0</td>\n      <td>0</td>\n      <td>0</td>\n      <td>1</td>\n      <td>0</td>\n      <td>0</td>\n      <td>6</td>\n      <td>1</td>\n    </tr>\n    <tr>\n      <th>1</th>\n      <td>0</td>\n      <td>22</td>\n      <td>0</td>\n      <td>0</td>\n      <td>0</td>\n      <td>0</td>\n      <td>1</td>\n      <td>0</td>\n      <td>0</td>\n      <td>0</td>\n      <td>...</td>\n      <td>0</td>\n      <td>0</td>\n      <td>0</td>\n      <td>0</td>\n      <td>1</td>\n      <td>0</td>\n      <td>0</td>\n      <td>0</td>\n      <td>6</td>\n      <td>1</td>\n    </tr>\n    <tr>\n      <th>2</th>\n      <td>0</td>\n      <td>18</td>\n      <td>0</td>\n      <td>0</td>\n      <td>0</td>\n      <td>1</td>\n      <td>0</td>\n      <td>0</td>\n      <td>0</td>\n      <td>0</td>\n      <td>...</td>\n      <td>0</td>\n      <td>0</td>\n      <td>0</td>\n      <td>0</td>\n      <td>1</td>\n      <td>0</td>\n      <td>0</td>\n      <td>0</td>\n      <td>6</td>\n      <td>1</td>\n    </tr>\n    <tr>\n      <th>3</th>\n      <td>1</td>\n      <td>18</td>\n      <td>0</td>\n      <td>0</td>\n      <td>0</td>\n      <td>0</td>\n      <td>1</td>\n      <td>0</td>\n      <td>0</td>\n      <td>0</td>\n      <td>...</td>\n      <td>0</td>\n      <td>0</td>\n      <td>0</td>\n      <td>1</td>\n      <td>0</td>\n      <td>0</td>\n      <td>0</td>\n      <td>0</td>\n      <td>6</td>\n      <td>1</td>\n    </tr>\n    <tr>\n      <th>4</th>\n      <td>0</td>\n      <td>19</td>\n      <td>0</td>\n      <td>0</td>\n      <td>0</td>\n      <td>0</td>\n      <td>1</td>\n      <td>0</td>\n      <td>0</td>\n      <td>0</td>\n      <td>...</td>\n      <td>0</td>\n      <td>0</td>\n      <td>0</td>\n      <td>1</td>\n      <td>0</td>\n      <td>0</td>\n      <td>0</td>\n      <td>0</td>\n      <td>6</td>\n      <td>1</td>\n    </tr>\n  </tbody>\n</table>\n<p>5 rows × 207 columns</p>\n</div>"
     },
     "execution_count": 72,
     "metadata": {},
     "output_type": "execute_result"
    }
   ],
   "source": [
    "df_pca.head()\n"
   ],
   "metadata": {
    "collapsed": false,
    "pycharm": {
     "name": "#%%\n"
    }
   }
  },
  {
   "cell_type": "code",
   "execution_count": 73,
   "outputs": [
    {
     "data": {
      "text/plain": "  Gender  Age  d 5100-0  d 5100-1  d 5100-2  d 5100-3  d 5100-4  d 5100-8  \\\n0      0   18         0         0         0         0         1         0   \n1      0   22         0         0         0         0         1         0   \n2      0   18         0         0         0         1         0         0   \n3      1   18         0         0         0         0         1         0   \n4      0   19         0         0         0         0         1         0   \n\n   d 5100-9  d 5101-0  ...  d 57022-9  d 571-0  d 571-1  d 571-2  d 571-3  \\\n0         0         0  ...          0        0        0        0        0   \n1         0         0  ...          0        0        0        0        1   \n2         0         0  ...          0        0        0        0        1   \n3         0         0  ...          0        0        0        1        0   \n4         0         0  ...          0        0        0        1        0   \n\n   d 571-4  d 571-8  d 571-9  Classes  Cluster  \n0        1        0        0        6        1  \n1        0        0        0        6        1  \n2        0        0        0        6        1  \n3        0        0        0        6        1  \n4        0        0        0        6        1  \n\n[5 rows x 207 columns]",
      "text/html": "<div>\n<style scoped>\n    .dataframe tbody tr th:only-of-type {\n        vertical-align: middle;\n    }\n\n    .dataframe tbody tr th {\n        vertical-align: top;\n    }\n\n    .dataframe thead th {\n        text-align: right;\n    }\n</style>\n<table border=\"1\" class=\"dataframe\">\n  <thead>\n    <tr style=\"text-align: right;\">\n      <th></th>\n      <th>Gender</th>\n      <th>Age</th>\n      <th>d 5100-0</th>\n      <th>d 5100-1</th>\n      <th>d 5100-2</th>\n      <th>d 5100-3</th>\n      <th>d 5100-4</th>\n      <th>d 5100-8</th>\n      <th>d 5100-9</th>\n      <th>d 5101-0</th>\n      <th>...</th>\n      <th>d 57022-9</th>\n      <th>d 571-0</th>\n      <th>d 571-1</th>\n      <th>d 571-2</th>\n      <th>d 571-3</th>\n      <th>d 571-4</th>\n      <th>d 571-8</th>\n      <th>d 571-9</th>\n      <th>Classes</th>\n      <th>Cluster</th>\n    </tr>\n  </thead>\n  <tbody>\n    <tr>\n      <th>0</th>\n      <td>0</td>\n      <td>18</td>\n      <td>0</td>\n      <td>0</td>\n      <td>0</td>\n      <td>0</td>\n      <td>1</td>\n      <td>0</td>\n      <td>0</td>\n      <td>0</td>\n      <td>...</td>\n      <td>0</td>\n      <td>0</td>\n      <td>0</td>\n      <td>0</td>\n      <td>0</td>\n      <td>1</td>\n      <td>0</td>\n      <td>0</td>\n      <td>6</td>\n      <td>1</td>\n    </tr>\n    <tr>\n      <th>1</th>\n      <td>0</td>\n      <td>22</td>\n      <td>0</td>\n      <td>0</td>\n      <td>0</td>\n      <td>0</td>\n      <td>1</td>\n      <td>0</td>\n      <td>0</td>\n      <td>0</td>\n      <td>...</td>\n      <td>0</td>\n      <td>0</td>\n      <td>0</td>\n      <td>0</td>\n      <td>1</td>\n      <td>0</td>\n      <td>0</td>\n      <td>0</td>\n      <td>6</td>\n      <td>1</td>\n    </tr>\n    <tr>\n      <th>2</th>\n      <td>0</td>\n      <td>18</td>\n      <td>0</td>\n      <td>0</td>\n      <td>0</td>\n      <td>1</td>\n      <td>0</td>\n      <td>0</td>\n      <td>0</td>\n      <td>0</td>\n      <td>...</td>\n      <td>0</td>\n      <td>0</td>\n      <td>0</td>\n      <td>0</td>\n      <td>1</td>\n      <td>0</td>\n      <td>0</td>\n      <td>0</td>\n      <td>6</td>\n      <td>1</td>\n    </tr>\n    <tr>\n      <th>3</th>\n      <td>1</td>\n      <td>18</td>\n      <td>0</td>\n      <td>0</td>\n      <td>0</td>\n      <td>0</td>\n      <td>1</td>\n      <td>0</td>\n      <td>0</td>\n      <td>0</td>\n      <td>...</td>\n      <td>0</td>\n      <td>0</td>\n      <td>0</td>\n      <td>1</td>\n      <td>0</td>\n      <td>0</td>\n      <td>0</td>\n      <td>0</td>\n      <td>6</td>\n      <td>1</td>\n    </tr>\n    <tr>\n      <th>4</th>\n      <td>0</td>\n      <td>19</td>\n      <td>0</td>\n      <td>0</td>\n      <td>0</td>\n      <td>0</td>\n      <td>1</td>\n      <td>0</td>\n      <td>0</td>\n      <td>0</td>\n      <td>...</td>\n      <td>0</td>\n      <td>0</td>\n      <td>0</td>\n      <td>1</td>\n      <td>0</td>\n      <td>0</td>\n      <td>0</td>\n      <td>0</td>\n      <td>6</td>\n      <td>1</td>\n    </tr>\n  </tbody>\n</table>\n<p>5 rows × 207 columns</p>\n</div>"
     },
     "execution_count": 73,
     "metadata": {},
     "output_type": "execute_result"
    }
   ],
   "source": [
    "df_truncatedSVD.head()"
   ],
   "metadata": {
    "collapsed": false,
    "pycharm": {
     "name": "#%%\n"
    }
   }
  },
  {
   "cell_type": "code",
   "execution_count": 74,
   "outputs": [
    {
     "name": "stdout",
     "output_type": "stream",
     "text": [
      "Median age per cluster using PCA\n",
      " Cluster\n",
      "0    12.0\n",
      "1    18.0\n",
      "2    11.0\n",
      "3     9.0\n",
      "Name: Age, dtype: float64\n",
      "\n",
      "Gender per cluster using PCA\n",
      " Cluster   \n",
      "0        1    14\n",
      "         0    12\n",
      "1        0    10\n",
      "         1     4\n",
      "2        0    14\n",
      "         1     6\n",
      "3        0     5\n",
      "         1     5\n",
      "Name: Gender, dtype: int64\n"
     ]
    }
   ],
   "source": [
    "print(\"Median age per cluster using PCA\\n\", df_pca.groupby('Cluster')['Age'].median())\n",
    "print(\"\\nGender per cluster using PCA\\n\", df_pca.groupby('Cluster')['Gender'].value_counts())"
   ],
   "metadata": {
    "collapsed": false,
    "pycharm": {
     "name": "#%%\n"
    }
   }
  },
  {
   "cell_type": "code",
   "execution_count": 75,
   "outputs": [
    {
     "name": "stdout",
     "output_type": "stream",
     "text": [
      "Median age per cluster using TSVD\n",
      " Cluster\n",
      "0    12.0\n",
      "1    18.0\n",
      "2    11.0\n",
      "3     9.0\n",
      "Name: Age, dtype: float64\n",
      "\n",
      "Gender per cluster using TSVD\n",
      " Cluster   \n",
      "0        1    14\n",
      "         0    12\n",
      "1        0    10\n",
      "         1     4\n",
      "2        0    14\n",
      "         1     6\n",
      "3        0     5\n",
      "         1     5\n",
      "Name: Gender, dtype: int64\n"
     ]
    }
   ],
   "source": [
    "print(\"Median age per cluster using TSVD\\n\", df_truncatedSVD.groupby('Cluster')['Age'].median())\n",
    "print(\"\\nGender per cluster using TSVD\\n\", df_truncatedSVD.groupby('Cluster')['Gender'].value_counts())"
   ],
   "metadata": {
    "collapsed": false,
    "pycharm": {
     "name": "#%%\n"
    }
   }
  },
  {
   "cell_type": "code",
   "execution_count": 76,
   "outputs": [],
   "source": [
    "# At this point, I don't really see difference between PCA and TSVD. I feel like I missed something,\n",
    "# but I followed the documentation carefully."
   ],
   "metadata": {
    "collapsed": false,
    "pycharm": {
     "name": "#%%\n"
    }
   }
  },
  {
   "cell_type": "code",
   "execution_count": 77,
   "outputs": [
    {
     "name": "stdout",
     "output_type": "stream",
     "text": [
      "\n",
      "(TSVD) Classes per cluster\n",
      " Cluster   \n",
      "0        4    11\n",
      "         7     5\n",
      "         2     4\n",
      "         1     2\n",
      "         5     2\n",
      "         3     1\n",
      "         6     1\n",
      "1        6     9\n",
      "         2     3\n",
      "         4     1\n",
      "         7     1\n",
      "         1     0\n",
      "         3     0\n",
      "         5     0\n",
      "2        6    19\n",
      "         5     1\n",
      "         1     0\n",
      "         2     0\n",
      "         3     0\n",
      "         4     0\n",
      "         7     0\n",
      "3        7    10\n",
      "         1     0\n",
      "         2     0\n",
      "         3     0\n",
      "         4     0\n",
      "         5     0\n",
      "         6     0\n",
      "Name: Classes, dtype: int64\n"
     ]
    }
   ],
   "source": [
    "print(\"\\n(TSVD) Classes per cluster\\n\", df_truncatedSVD.groupby('Cluster')['Classes'].value_counts())"
   ],
   "metadata": {
    "collapsed": false,
    "pycharm": {
     "name": "#%%\n"
    }
   }
  },
  {
   "cell_type": "code",
   "execution_count": 78,
   "outputs": [
    {
     "data": {
      "text/plain": "<Figure size 1080x720 with 1 Axes>",
      "image/png": "[encoded data removed]"
     },
     "metadata": {},
     "output_type": "display_data"
    }
   ],
   "source": [
    "plt.figure(figsize=(15,10))\n",
    "df_truncatedSVD.groupby('Cluster').apply(lambda x: x.iloc[:,2:-2].sum().nlargest(10)).plot(kind='barh')\n",
    "plt.show()"
   ],
   "metadata": {
    "collapsed": false,
    "pycharm": {
     "name": "#%%\n"
    }
   }
  },
  {
   "cell_type": "code",
   "execution_count": 79,
   "outputs": [
    {
     "data": {
      "text/plain": "<Figure size 576x396 with 1 Axes>",
      "image/png": "[encoded data removed]"
     },
     "metadata": {},
     "output_type": "display_data"
    }
   ],
   "source": [
    "plt.title('Class Distribution')\n",
    "df_truncatedSVD.Cluster.value_counts().plot(kind='bar')\n",
    "plt.show()"
   ],
   "metadata": {
    "collapsed": false,
    "pycharm": {
     "name": "#%%\n"
    }
   }
  },
  {
   "cell_type": "code",
   "execution_count": 80,
   "outputs": [
    {
     "data": {
      "text/plain": "(49, 50)"
     },
     "execution_count": 80,
     "metadata": {},
     "output_type": "execute_result"
    }
   ],
   "source": [
    "X,y = sparse_truncatedSVD, df_truncatedSVD['Cluster']\n",
    "X_train, X_test, y_train, y_test = train_test_split(X,y, test_size = 0.3, random_state=42)\n",
    "\n",
    "X_train.shape"
   ],
   "metadata": {
    "collapsed": false,
    "pycharm": {
     "name": "#%%\n"
    }
   }
  },
  {
   "cell_type": "code",
   "execution_count": 81,
   "outputs": [
    {
     "data": {
      "text/plain": "(49,)"
     },
     "execution_count": 81,
     "metadata": {},
     "output_type": "execute_result"
    }
   ],
   "source": [
    "y_train.shape\n"
   ],
   "metadata": {
    "collapsed": false,
    "pycharm": {
     "name": "#%%\n"
    }
   }
  },
  {
   "cell_type": "code",
   "execution_count": 82,
   "outputs": [
    {
     "data": {
      "text/plain": "(21, 50)"
     },
     "execution_count": 82,
     "metadata": {},
     "output_type": "execute_result"
    }
   ],
   "source": [
    "X_test.shape\n"
   ],
   "metadata": {
    "collapsed": false,
    "pycharm": {
     "name": "#%%\n"
    }
   }
  },
  {
   "cell_type": "code",
   "execution_count": 83,
   "outputs": [
    {
     "data": {
      "text/plain": "(21,)"
     },
     "execution_count": 83,
     "metadata": {},
     "output_type": "execute_result"
    }
   ],
   "source": [
    "y_test.shape"
   ],
   "metadata": {
    "collapsed": false,
    "pycharm": {
     "name": "#%%\n"
    }
   }
  },
  {
   "cell_type": "code",
   "execution_count": 84,
   "outputs": [],
   "source": [
    "rfclf = RandomForestClassifier(n_estimators=100, random_state=42)\n",
    "rfclf.fit(X_train,y_train)\n",
    "y_pred=rfclf.predict(X_test)"
   ],
   "metadata": {
    "collapsed": false,
    "pycharm": {
     "name": "#%%\n"
    }
   }
  },
  {
   "cell_type": "code",
   "execution_count": 85,
   "outputs": [
    {
     "name": "stdout",
     "output_type": "stream",
     "text": [
      "Accuracy: 0.9047619047619048\n"
     ]
    }
   ],
   "source": [
    "print(\"Accuracy:\",metrics.accuracy_score(y_test, y_pred))\n"
   ],
   "metadata": {
    "collapsed": false,
    "pycharm": {
     "name": "#%%\n"
    }
   }
  },
  {
   "cell_type": "code",
   "execution_count": 86,
   "outputs": [
    {
     "name": "stdout",
     "output_type": "stream",
     "text": [
      "=== All AUC Scores ===\n",
      "[1.         1.         1.         0.85714286 1.         1.\n",
      " 1.         1.         0.71428571 0.85714286]\n",
      "\n",
      "\n",
      "=== Mean AUC Score ===\n",
      "Mean AUC Score - Random Forest:  0.9428571428571428\n"
     ]
    }
   ],
   "source": [
    "rfclf_cv_score = cross_val_score(rfclf, X, y, cv=10, scoring='f1_micro')\n",
    "print(\"=== All AUC Scores ===\")\n",
    "print(rfclf_cv_score)\n",
    "print('\\n')\n",
    "print(\"=== Mean AUC Score ===\")\n",
    "print(\"Mean AUC Score - Random Forest: \", rfclf_cv_score.mean())\n"
   ],
   "metadata": {
    "collapsed": false,
    "pycharm": {
     "name": "#%%\n"
    }
   }
  },
  {
   "cell_type": "code",
   "execution_count": 89,
   "outputs": [
    {
     "data": {
      "text/plain": "<Figure size 576x396 with 1 Axes>",
      "image/png": "[encoded data removed]"
     },
     "metadata": {},
     "output_type": "display_data"
    },
    {
     "data": {
      "text/plain": "<Figure size 576x396 with 2 Axes>",
      "image/png": "[encoded data removed]"
     },
     "metadata": {},
     "output_type": "display_data"
    }
   ],
   "source": [
    "conf_matrix = ConfusionMatrix(rfclf)\n",
    "\n",
    "conf_matrix.fit(X_train, y_train)\n",
    "conf_matrix.score(X_test, y_test)\n",
    "print_conf_matrix = conf_matrix.poof()\n",
    "\n",
    "classification_report = ClassificationReport(rfclf)\n",
    "\n",
    "classification_report.fit(X_train, y_train)\n",
    "classification_report.score(X_test, y_test)\n",
    "print_classification_report = classification_report.poof()"
   ],
   "metadata": {
    "collapsed": false,
    "pycharm": {
     "name": "#%%\n"
    }
   }
  },
  {
   "cell_type": "code",
   "execution_count": 88,
   "outputs": [
    {
     "data": {
      "text/plain": "<Figure size 576x396 with 1 Axes>",
      "image/png": "[encoded data removed]"
     },
     "metadata": {},
     "output_type": "display_data"
    },
    {
     "data": {
      "text/plain": "<AxesSubplot:title={'center':'Learning Curve for RandomForestClassifier'}, xlabel='Training Instances', ylabel='Score'>"
     },
     "execution_count": 88,
     "metadata": {},
     "output_type": "execute_result"
    }
   ],
   "source": [
    "cross_validation = StratifiedKFold(n_splits=20)\n",
    "train_sizes = np.linspace(0.3, 1.0, 20)\n",
    "\n",
    "learning_curve = LearningCurve(\n",
    "    rfclf, cv=cross_validation, scoring='f1_weighted', train_sizes=train_sizes, n_jobs=4\n",
    ")\n",
    "\n",
    "learning_curve.fit(X, y)\n",
    "learning_curve.poof()"
   ],
   "metadata": {
    "collapsed": false,
    "pycharm": {
     "name": "#%%\n"
    }
   }
  }
 ],
 "metadata": {
  "kernelspec": {
   "display_name": "Python 3",
   "language": "python",
   "name": "python3"
  },
  "language_info": {
   "codemirror_mode": {
    "name": "ipython",
    "version": 2
   },
   "file_extension": ".py",
   "mimetype": "text/x-python",
   "name": "python",
   "nbconvert_exporter": "python",
   "pygments_lexer": "ipython2",
   "version": "2.7.6"
  }
 },
 "nbformat": 4,
 "nbformat_minor": 0
}